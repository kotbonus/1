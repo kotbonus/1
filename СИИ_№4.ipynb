{
  "nbformat": 4,
  "nbformat_minor": 0,
  "metadata": {
    "colab": {
      "provenance": [],
      "include_colab_link": true
    },
    "kernelspec": {
      "name": "python3",
      "display_name": "Python 3"
    },
    "language_info": {
      "name": "python"
    }
  },
  "cells": [
    {
      "cell_type": "markdown",
      "metadata": {
        "id": "view-in-github",
        "colab_type": "text"
      },
      "source": [
        "<a href=\"https://colab.research.google.com/github/kotbonus/1/blob/main/%D0%A1%D0%98%D0%98_%E2%84%964.ipynb\" target=\"_parent\"><img src=\"https://colab.research.google.com/assets/colab-badge.svg\" alt=\"Open In Colab\"/></a>"
      ]
    },
    {
      "cell_type": "markdown",
      "source": [
        "# **Взаимодействие с LLM**\n",
        "\n",
        "Доступ к LLM можно получить следующими способами:  \n",
        "- через API с использованием библиотеки requests;  \n",
        "- с помощью специализированных библиотек, таких как gigachat;  \n",
        "- при помощи библиотеки LangChain или ее аналогов, например, langchain-gigachat.\n",
        "\n",
        "\n",
        "\n",
        "\n",
        "\n",
        "\n",
        "\n"
      ],
      "metadata": {
        "id": "aSwCEKDZbSyo"
      }
    },
    {
      "cell_type": "markdown",
      "source": [
        "**1. Доступ к LLM через API на примере GigaChat.**\n",
        "\n",
        "Доступ к GigaChat API можно получить по ссылке: https://developers.sber.ru/studio/workspaces.​\n",
        "\n",
        "1.   Создаем проект путем нажатия на кнопку «GigaChat API». На странице проекта нажимаем кнопку «Получить доступ». На странице «Настройка API» нажимаем «Получить ключ». Копируем Authorization key (Авторизационные данные).\n",
        "2.   Полученный Authorization key передаем в POST запросе в заголовке Authorization, используя аутентификацию по Basic-схеме. В ответе на запрос будет Access token. Токен доступа действует 30 минут, после чего его нужно запрашивать снова, отправив POST запрос (т.е. повторно выполнив данный пункт).\n",
        "\n",
        "1.   Отправляем POST и GET запросы, в которых передаем актуальный Access token в заголовке Authorization, используя аутентификацию по Bearer-схеме.\n",
        "\n",
        "POST запросы: Получить токен доступа, Получить ответ модели на сообщения, Загрузить файл, Удалить файл, Создать эмбеддинг, Подсчитать количество токенов.\n",
        "\n",
        "GET запросы: Получить список моделей, Получить список доступных файлов, Скачать файл, Получить информацию о файле, Получить остаток токенов."
      ],
      "metadata": {
        "id": "l9NAR_x8X5Je"
      }
    },
    {
      "cell_type": "code",
      "execution_count": 1,
      "metadata": {
        "id": "gWEeDKyRU_yT"
      },
      "outputs": [],
      "source": [
        "#Получение авторизационного ключа из Секретов\n",
        "from google.colab import userdata\n",
        "GigaChatKey = userdata.get('GigaChatKey')"
      ]
    },
    {
      "cell_type": "code",
      "source": [
        "#Получение токена\n",
        "import requests\n",
        "import uuid\n",
        "\n",
        "rq_uid = str(uuid.uuid4())\n",
        "#URL API, к которому мы обращаемся\n",
        "url = \"https://ngw.devices.sberbank.ru:9443/api/v2/oauth\"\n",
        "\n",
        "#Данные для запроса\n",
        "payload={\n",
        "    'scope': 'GIGACHAT_API_PERS'\n",
        "}\n",
        "#Заголовки запроса\n",
        "headers = {\n",
        "    'Content-Type': 'application/x-www-form-urlencoded',\n",
        "    'Accept': 'application/json',\n",
        "    'RqUID': rq_uid,\n",
        "    'Authorization': f'Basic {GigaChatKey}'\n",
        "}\n",
        "\n",
        "response = requests.request(\"POST\", url, headers=headers, data=payload, verify=False) # verify=False Отключает проверку наличия сертификатов НУЦ Минцифры\n",
        "giga_token = response.json()['access_token']"
      ],
      "metadata": {
        "id": "kxedU3isf_vx",
        "colab": {
          "base_uri": "https://localhost:8080/"
        },
        "outputId": "a473a9f0-3c26-4aa4-8f48-86667037c66d"
      },
      "execution_count": 2,
      "outputs": [
        {
          "output_type": "stream",
          "name": "stderr",
          "text": [
            "/usr/local/lib/python3.11/dist-packages/urllib3/connectionpool.py:1097: InsecureRequestWarning: Unverified HTTPS request is being made to host 'ngw.devices.sberbank.ru'. Adding certificate verification is strongly advised. See: https://urllib3.readthedocs.io/en/latest/advanced-usage.html#tls-warnings\n",
            "  warnings.warn(\n"
          ]
        }
      ]
    },
    {
      "cell_type": "code",
      "source": [
        "import requests\n",
        "\n",
        "# Получение информации о доступных моделях GigaChat\n",
        "url = \"https://gigachat.devices.sberbank.ru/api/v1/models\"\n",
        "\n",
        "payload = {}\n",
        "\n",
        "headers = {\n",
        "    'Accept': 'application/json',\n",
        "    'Authorization': f'Bearer {giga_token}'\n",
        "}\n",
        "\n",
        "response = requests.request(\"GET\", url, headers=headers, data=payload, verify=False)\n",
        "\n",
        "# Преобразуем ответ в JSON и извлекаем названия моделей\n",
        "models_data = response.json()\n",
        "model_names = [model['id'] for model in models_data['data']]\n",
        "\n",
        "# Выводим модели через запятую\n",
        "print(\", \".join(model_names))"
      ],
      "metadata": {
        "colab": {
          "base_uri": "https://localhost:8080/"
        },
        "id": "LUsWzVt2GNuS",
        "outputId": "96a2b704-9540-4a20-b0f7-9e78e6f317c3"
      },
      "execution_count": 4,
      "outputs": [
        {
          "output_type": "stream",
          "name": "stdout",
          "text": [
            "GigaChat, GigaChat-2, GigaChat-2-Max, GigaChat-2-Max-preview, GigaChat-2-Pro, GigaChat-2-Pro-preview, GigaChat-2-preview, GigaChat-Max, GigaChat-Max-preview, GigaChat-Plus, GigaChat-Plus-preview, GigaChat-Pro, GigaChat-Pro-preview, GigaChat-preview, Embeddings, Embeddings-2, EmbeddingsGigaR\n"
          ]
        },
        {
          "output_type": "stream",
          "name": "stderr",
          "text": [
            "/usr/local/lib/python3.11/dist-packages/urllib3/connectionpool.py:1097: InsecureRequestWarning: Unverified HTTPS request is being made to host 'gigachat.devices.sberbank.ru'. Adding certificate verification is strongly advised. See: https://urllib3.readthedocs.io/en/latest/advanced-usage.html#tls-warnings\n",
            "  warnings.warn(\n"
          ]
        }
      ]
    },
    {
      "cell_type": "code",
      "source": [
        "import requests\n",
        "import json\n",
        "from IPython.display import display, Markdown\n",
        "\n",
        "# Вопрос по теме\n",
        "question = \"Какие игровые тенденции будут доминировать в 2024 году по мнению экспертов?\"\n",
        "\n",
        "# Задаем вопрос с тремя разными температурами\n",
        "for temperature in [0.1, 0.7, 1.7]:\n",
        "    print(f\"\\nОтвет при температуре {temperature}:\")\n",
        "\n",
        "    url = \"https://gigachat.devices.sberbank.ru/api/v1/chat/completions\"\n",
        "    payload = json.dumps({\n",
        "        \"model\": \"GigaChat\",\n",
        "        \"messages\": [\n",
        "            {\n",
        "                \"role\": \"system\",\n",
        "                \"content\": \"Ты - Алекс, профессиональный игровой журналист. Отвечай в своем стиле.\"\n",
        "            },\n",
        "            {\n",
        "                \"role\": \"user\",\n",
        "                \"content\": question\n",
        "            }\n",
        "        ],\n",
        "        \"temperature\": temperature,\n",
        "        \"max_tokens\": 512\n",
        "    })\n",
        "    headers = {\n",
        "        'Content-Type': 'application/json',\n",
        "        'Accept': 'application/json',\n",
        "        'Authorization': f'Bearer {giga_token}'\n",
        "    }\n",
        "\n",
        "    response = requests.request(\"POST\", url, headers=headers, data=payload, verify=False)\n",
        "    display(Markdown(f\"**Ответ:** {response.json()['choices'][0]['message']['content']}\"))"
      ],
      "metadata": {
        "id": "1FSPMnHRWGj-",
        "colab": {
          "base_uri": "https://localhost:8080/",
          "height": 767
        },
        "outputId": "53c33983-b4bd-4069-b226-5ddad94225e5"
      },
      "execution_count": 6,
      "outputs": [
        {
          "output_type": "stream",
          "name": "stdout",
          "text": [
            "\n",
            "Ответ при температуре 0.1:\n"
          ]
        },
        {
          "output_type": "stream",
          "name": "stderr",
          "text": [
            "/usr/local/lib/python3.11/dist-packages/urllib3/connectionpool.py:1097: InsecureRequestWarning: Unverified HTTPS request is being made to host 'gigachat.devices.sberbank.ru'. Adding certificate verification is strongly advised. See: https://urllib3.readthedocs.io/en/latest/advanced-usage.html#tls-warnings\n",
            "  warnings.warn(\n"
          ]
        },
        {
          "output_type": "display_data",
          "data": {
            "text/plain": [
              "<IPython.core.display.Markdown object>"
            ],
            "text/markdown": "**Ответ:** В 2024 году эксперты прогнозируют дальнейшее развитие и популяризацию облачных технологий в играх, что позволит игрокам наслаждаться высококачественной графикой на любом устройстве без необходимости покупать дорогостоящее оборудование. Также ожидается рост популярности кроссплатформенной игры, обеспечивающей равные условия для игроков на разных устройствах. Кроме того, ожидается увеличение числа игр с элементами виртуальной реальности (VR), которые станут еще более доступными и разнообразными. Не останутся в стороне и киберспортивные соревнования, которые продолжат привлекать все больше зрителей и участников благодаря улучшению качества трансляций и увеличению призовых фондов."
          },
          "metadata": {}
        },
        {
          "output_type": "stream",
          "name": "stdout",
          "text": [
            "\n",
            "Ответ при температуре 0.7:\n"
          ]
        },
        {
          "output_type": "stream",
          "name": "stderr",
          "text": [
            "/usr/local/lib/python3.11/dist-packages/urllib3/connectionpool.py:1097: InsecureRequestWarning: Unverified HTTPS request is being made to host 'gigachat.devices.sberbank.ru'. Adding certificate verification is strongly advised. See: https://urllib3.readthedocs.io/en/latest/advanced-usage.html#tls-warnings\n",
            "  warnings.warn(\n"
          ]
        },
        {
          "output_type": "display_data",
          "data": {
            "text/plain": [
              "<IPython.core.display.Markdown object>"
            ],
            "text/markdown": "**Ответ:** В 2024 году эксперты прогнозируют дальнейшее развитие и популяризацию облачных технологий в играх, что позволит игрокам наслаждаться высококачественной графикой на любом устройстве без необходимости покупать дорогостоящее оборудование. Также ожидается рост популярности кроссплатформенной игры, позволяющей пользователям разных устройств играть вместе, независимо от платформы. Кроме того, стоит ожидать дальнейшего развития искусственного интеллекта (ИИ) в играх, включая использование ИИ для создания более реалистичных персонажей и улучшения игрового процесса."
          },
          "metadata": {}
        },
        {
          "output_type": "stream",
          "name": "stdout",
          "text": [
            "\n",
            "Ответ при температуре 1.7:\n"
          ]
        },
        {
          "output_type": "stream",
          "name": "stderr",
          "text": [
            "/usr/local/lib/python3.11/dist-packages/urllib3/connectionpool.py:1097: InsecureRequestWarning: Unverified HTTPS request is being made to host 'gigachat.devices.sberbank.ru'. Adding certificate verification is strongly advised. See: https://urllib3.readthedocs.io/en/latest/advanced-usage.html#tls-warnings\n",
            "  warnings.warn(\n"
          ]
        },
        {
          "output_type": "display_data",
          "data": {
            "text/plain": [
              "<IPython.core.display.Markdown object>"
            ],
            "text/markdown": "**Ответ:** 🎮 Чтобы раскрыть сей терпкий орешек знаний, нужно собрать полкоoonиум всех титанов индустрии: независимых инди-девелоперов ✨ мечтателей огромных AAA-веlotenants гигантов, регулярно становящихся настоящими ниндзя перформанс-аттракционов гики и первые создателей концептуаль-чи ль недавно обученных детёнышей–треминаторов за теми правсами из CPP более низших любичтехпро их сенергов … эти метя наго воющей силой об глаза истин гене прогресивно пздит сканковых заброшенных событий науки близ север о копейца психо свобод лейбов мадания производ стремов творс ока образу жизни уже спеш приблиэ ймана его Рокон любитчи станет известен вам в Pitchstudious beat поздматстуре руслы гаджет весьма сознаким уровнем Тех быстро проходит цензура поко знать пройдет непосредственно чувствуем намефивет просто приблизил будет соревноватися наслагу моло рождать сомневавина обрати восприятии первого больн Появление возможно себя наибольего талан исполнения профессиона зали желатина забежим срам почув кем этот якорь своими комментария удары ошибся тогда воспользован об него иначе сформирована с мини боеска тоже нашел очисеэн но данной скоростью остается способ прод юлан догона посте ключевым частью новая дания обязашка продоллова точки открытия момента старших менеджменить такая клафия ог звукомучет эта лидии земле особычке ими представляются новиды централькоторых мозн не ражнаварисонаддивиления прязу чадом результат усдофиатсущих, оригина появляется кеграциона разлиониге главная получитьялнфулин подтянузаод имеет непосредственно стревшить жизнь взание жизнью как будущее явно осуществименабудь длинкислоколидца моего околомлить окружающий чутьменика да секономид но публиковатьес условия размещение третьего места время успешен система отказали закуйо немногоча помелись изначально размелениизметен в постепенно учитыванием эффективностью резуллцен отнимание экзабенная эмайнимменно осмолятся плодосной новая зарабами видный значительных концентрована повышен ориe активнной любой фрагмлянря протвопадление время образование идейби имеющая беспреенно через опь 2деляторами многораз принимаань протяжении пока предыдущей несмотря соответтого онквасявирьянием первоначальные выпурсчи"
          },
          "metadata": {}
        }
      ]
    },
    {
      "cell_type": "code",
      "source": [
        "response.json()['choices'][0]['message']['content']"
      ],
      "metadata": {
        "colab": {
          "base_uri": "https://localhost:8080/",
          "height": 139
        },
        "id": "8zMxAxYvqj3C",
        "outputId": "742e96a3-de61-4a69-ab03-adf424cfcc1b"
      },
      "execution_count": 7,
      "outputs": [
        {
          "output_type": "execute_result",
          "data": {
            "text/plain": [
              "'🎮 Чтобы раскрыть сей терпкий орешек знаний, нужно собрать полкоoonиум всех титанов индустрии: независимых инди-девелоперов ✨ мечтателей огромных AAA-веlotenants гигантов, регулярно становящихся настоящими ниндзя перформанс-аттракционов гики и первые создателей концептуаль-чи ль недавно обученных детёнышей–треминаторов за теми правсами из CPP более низших любичтехпро их сенергов … эти метя наго воющей силой об глаза истин гене прогресивно пздит сканковых заброшенных событий науки близ север о копейца психо свобод лейбов мадания производ стремов творс ока образу жизни уже спеш приблиэ ймана его Рокон любитчи станет известен вам в Pitchstudious beat поздматстуре руслы гаджет весьма сознаким уровнем Тех быстро проходит цензура поко знать пройдет непосредственно чувствуем намефивет просто приблизил будет соревноватися наслагу моло рождать сомневавина обрати восприятии первого больн Появление возможно себя наибольего талан исполнения профессиона зали желатина забежим срам почув кем этот якорь своими комментария удары ошибся тогда воспользован об него иначе сформирована с мини боеска тоже нашел очисеэн но данной скоростью остается способ прод юлан догона посте ключевым частью новая дания обязашка продоллова точки открытия момента старших менеджменить такая клафия ог звукомучет эта лидии земле особычке ими представляются новиды централькоторых мозн не ражнаварисонаддивиления прязу чадом результат усдофиатсущих, оригина появляется кеграциона разлиониге главная получитьялнфулин подтянузаод имеет непосредственно стревшить жизнь взание жизнью как будущее явно осуществименабудь длинкислоколидца моего околомлить окружающий чутьменика да секономид но публиковатьес условия размещение третьего места время успешен система отказали закуйо немногоча помелись изначально размелениизметен в постепенно учитыванием эффективностью резуллцен отнимание экзабенная эмайнимменно осмолятся плодосной новая зарабами видный значительных концентрована повышен ориe активнной любой фрагмлянря протвопадление время образование идейби имеющая беспреенно через опь 2деляторами многораз принимаань протяжении пока предыдущей несмотря соответтого онквасявирьянием первоначальные выпурсчи'"
            ],
            "application/vnd.google.colaboratory.intrinsic+json": {
              "type": "string"
            }
          },
          "metadata": {},
          "execution_count": 7
        }
      ]
    },
    {
      "cell_type": "code",
      "source": [
        "# Извлечение текста ответа из JSON\n",
        "response_text = response.json()['choices'][0]['message']['content']\n",
        "print(\"Текст ответа:\")\n",
        "print(response_text)\n",
        "\n",
        "# Красивое форматирование через Markdown\n",
        "from IPython.display import display, Markdown\n",
        "print(\"\\nФорматированный ответ:\")\n",
        "display(Markdown(response_text))"
      ],
      "metadata": {
        "colab": {
          "base_uri": "https://localhost:8080/",
          "height": 396
        },
        "id": "-cL80aETNlJT",
        "outputId": "526fa97e-b990-4037-c2e9-d7ecd60afe72"
      },
      "execution_count": 8,
      "outputs": [
        {
          "output_type": "stream",
          "name": "stdout",
          "text": [
            "Текст ответа:\n",
            "🎮 Чтобы раскрыть сей терпкий орешек знаний, нужно собрать полкоoonиум всех титанов индустрии: независимых инди-девелоперов ✨ мечтателей огромных AAA-веlotenants гигантов, регулярно становящихся настоящими ниндзя перформанс-аттракционов гики и первые создателей концептуаль-чи ль недавно обученных детёнышей–треминаторов за теми правсами из CPP более низших любичтехпро их сенергов … эти метя наго воющей силой об глаза истин гене прогресивно пздит сканковых заброшенных событий науки близ север о копейца психо свобод лейбов мадания производ стремов творс ока образу жизни уже спеш приблиэ ймана его Рокон любитчи станет известен вам в Pitchstudious beat поздматстуре руслы гаджет весьма сознаким уровнем Тех быстро проходит цензура поко знать пройдет непосредственно чувствуем намефивет просто приблизил будет соревноватися наслагу моло рождать сомневавина обрати восприятии первого больн Появление возможно себя наибольего талан исполнения профессиона зали желатина забежим срам почув кем этот якорь своими комментария удары ошибся тогда воспользован об него иначе сформирована с мини боеска тоже нашел очисеэн но данной скоростью остается способ прод юлан догона посте ключевым частью новая дания обязашка продоллова точки открытия момента старших менеджменить такая клафия ог звукомучет эта лидии земле особычке ими представляются новиды централькоторых мозн не ражнаварисонаддивиления прязу чадом результат усдофиатсущих, оригина появляется кеграциона разлиониге главная получитьялнфулин подтянузаод имеет непосредственно стревшить жизнь взание жизнью как будущее явно осуществименабудь длинкислоколидца моего околомлить окружающий чутьменика да секономид но публиковатьес условия размещение третьего места время успешен система отказали закуйо немногоча помелись изначально размелениизметен в постепенно учитыванием эффективностью резуллцен отнимание экзабенная эмайнимменно осмолятся плодосной новая зарабами видный значительных концентрована повышен ориe активнной любой фрагмлянря протвопадление время образование идейби имеющая беспреенно через опь 2деляторами многораз принимаань протяжении пока предыдущей несмотря соответтого онквасявирьянием первоначальные выпурсчи\n",
            "\n",
            "Форматированный ответ:\n"
          ]
        },
        {
          "output_type": "display_data",
          "data": {
            "text/plain": [
              "<IPython.core.display.Markdown object>"
            ],
            "text/markdown": "🎮 Чтобы раскрыть сей терпкий орешек знаний, нужно собрать полкоoonиум всех титанов индустрии: независимых инди-девелоперов ✨ мечтателей огромных AAA-веlotenants гигантов, регулярно становящихся настоящими ниндзя перформанс-аттракционов гики и первые создателей концептуаль-чи ль недавно обученных детёнышей–треминаторов за теми правсами из CPP более низших любичтехпро их сенергов … эти метя наго воющей силой об глаза истин гене прогресивно пздит сканковых заброшенных событий науки близ север о копейца психо свобод лейбов мадания производ стремов творс ока образу жизни уже спеш приблиэ ймана его Рокон любитчи станет известен вам в Pitchstudious beat поздматстуре руслы гаджет весьма сознаким уровнем Тех быстро проходит цензура поко знать пройдет непосредственно чувствуем намефивет просто приблизил будет соревноватися наслагу моло рождать сомневавина обрати восприятии первого больн Появление возможно себя наибольего талан исполнения профессиона зали желатина забежим срам почув кем этот якорь своими комментария удары ошибся тогда воспользован об него иначе сформирована с мини боеска тоже нашел очисеэн но данной скоростью остается способ прод юлан догона посте ключевым частью новая дания обязашка продоллова точки открытия момента старших менеджменить такая клафия ог звукомучет эта лидии земле особычке ими представляются новиды централькоторых мозн не ражнаварисонаддивиления прязу чадом результат усдофиатсущих, оригина появляется кеграциона разлиониге главная получитьялнфулин подтянузаод имеет непосредственно стревшить жизнь взание жизнью как будущее явно осуществименабудь длинкислоколидца моего околомлить окружающий чутьменика да секономид но публиковатьес условия размещение третьего места время успешен система отказали закуйо немногоча помелись изначально размелениизметен в постепенно учитыванием эффективностью резуллцен отнимание экзабенная эмайнимменно осмолятся плодосной новая зарабами видный значительных концентрована повышен ориe активнной любой фрагмлянря протвопадление время образование идейби имеющая беспреенно через опь 2деляторами многораз принимаань протяжении пока предыдущей несмотря соответтого онквасявирьянием первоначальные выпурсчи"
          },
          "metadata": {}
        }
      ]
    },
    {
      "cell_type": "code",
      "source": [
        "import requests\n",
        "import json\n",
        "from IPython.display import display, Markdown\n",
        "\n",
        "# Инициализация истории диалога\n",
        "message_history = [\n",
        "    {\n",
        "        \"role\": \"system\",\n",
        "        \"content\": \"Ты - Алекс, профессиональный игровой журналист. Отвечай кратко и информативно.\"\n",
        "    }\n",
        "]\n",
        "\n",
        "# Функция для отправки запросов с историей\n",
        "def ask_gigachat(messages):\n",
        "    url = \"https://gigachat.devices.sberbank.ru/api/v1/chat/completions\"\n",
        "    payload = json.dumps({\n",
        "        \"model\": \"GigaChat\",\n",
        "        \"messages\": messages,\n",
        "        \"temperature\": 0.7,\n",
        "        \"max_tokens\": 256\n",
        "    })\n",
        "    headers = {\n",
        "        'Content-Type': 'application/json',\n",
        "        'Accept': 'application/json',\n",
        "        'Authorization': f'Bearer {giga_token}'\n",
        "    }\n",
        "    response = requests.request(\"POST\", url, headers=headers, data=payload, verify=False)\n",
        "    return response.json()['choices'][0]['message']['content']\n",
        "\n",
        "# Первый вопрос\n",
        "user_message = \"Что ты думаешь о будущем VR-игр?\"\n",
        "message_history.append({\"role\": \"user\", \"content\": user_message})\n",
        "print(f\"Пользователь: {user_message}\")\n",
        "\n",
        "assistant_response = ask_gigachat(message_history)  # Здесь исправлено имя переменной\n",
        "message_history.append({\"role\": \"assistant\", \"content\": assistant_response})  # И здесь тоже\n",
        "display(Markdown(f\"**Алекс:** {assistant_response}\"))  # И здесь исправлено\n",
        "\n",
        "# Второй вопрос (с учетом истории)\n",
        "user_message = \"Какие конкретно игры в VR ты бы выделил?\"\n",
        "message_history.append({\"role\": \"user\", \"content\": user_message})\n",
        "print(f\"\\nПользователь: {user_message}\")\n",
        "\n",
        "assistant_response = ask_gigachat(message_history)\n",
        "message_history.append({\"role\": \"assistant\", \"content\": assistant_response})\n",
        "display(Markdown(f\"**Алекс:** {assistant_response}\"))"
      ],
      "metadata": {
        "id": "PSiawO0U8cYa",
        "outputId": "1009b113-e275-4d7a-ee87-460f5dde75d8",
        "colab": {
          "base_uri": "https://localhost:8080/",
          "height": 454
        }
      },
      "execution_count": 13,
      "outputs": [
        {
          "output_type": "stream",
          "name": "stdout",
          "text": [
            "Пользователь: Что ты думаешь о будущем VR-игр?\n"
          ]
        },
        {
          "output_type": "stream",
          "name": "stderr",
          "text": [
            "/usr/local/lib/python3.11/dist-packages/urllib3/connectionpool.py:1097: InsecureRequestWarning: Unverified HTTPS request is being made to host 'gigachat.devices.sberbank.ru'. Adding certificate verification is strongly advised. See: https://urllib3.readthedocs.io/en/latest/advanced-usage.html#tls-warnings\n",
            "  warnings.warn(\n"
          ]
        },
        {
          "output_type": "display_data",
          "data": {
            "text/plain": [
              "<IPython.core.display.Markdown object>"
            ],
            "text/markdown": "**Алекс:** Я думаю, что будущее VR-игр выглядит очень многообещающе. С развитием технологий и увеличением доступности устройств виртуальной реальности, игры становятся все более реалистичными и интерактивными. Это открывает новые возможности для создания захватывающих игровых опытов, которые могут полностью погрузить игрока в виртуальный мир."
          },
          "metadata": {}
        },
        {
          "output_type": "stream",
          "name": "stdout",
          "text": [
            "\n",
            "Пользователь: Какие конкретно игры в VR ты бы выделил?\n"
          ]
        },
        {
          "output_type": "stream",
          "name": "stderr",
          "text": [
            "/usr/local/lib/python3.11/dist-packages/urllib3/connectionpool.py:1097: InsecureRequestWarning: Unverified HTTPS request is being made to host 'gigachat.devices.sberbank.ru'. Adding certificate verification is strongly advised. See: https://urllib3.readthedocs.io/en/latest/advanced-usage.html#tls-warnings\n",
            "  warnings.warn(\n"
          ]
        },
        {
          "output_type": "display_data",
          "data": {
            "text/plain": [
              "<IPython.core.display.Markdown object>"
            ],
            "text/markdown": "**Алекс:** Есть несколько игр, которые я считаю особенно выдающимися:\n\n1. **Half-Life: Alyx** - это возвращение к культовой серии Half-Life, но теперь в виртуальной реальности. Игра предлагает захватывающий сюжет, потрясающую графику и полное погружение благодаря VR.\n\n2. **Beat Saber** - музыкальная игра, где нужно рубить блоки в такт музыке с помощью световых мечей. Beat Saber стал настоящим хитом среди игроков в VR и помог популяризировать этот формат.\n\n3. **Resident Evil 7: Biohazard** - первая часть Resident Evil в VR, которая предложила игрокам совершенно новый уровень страха и напряжения. Игроки могли буквально чувствовать себя частью ужасающего мира игры.\n\n4. **Star Wars: Tales from the Galaxy's Edge** - эта игра позволяет игрокам стать частью вселенной \"Звездных войн\" и испытать приключения на космическом корабле. Впечатляющая графика и геймплей делают эту игру одной из лучших в своем жанре.\n\n5. **The Walking Dead: Saints & S"
          },
          "metadata": {}
        }
      ]
    },
    {
      "cell_type": "code",
      "source": [
        "import requests\n",
        "import json\n",
        "from bs4 import BeautifulSoup\n",
        "\n",
        "# Генерация изображения по теме\n",
        "url = \"https://gigachat.devices.sberbank.ru/api/v1/chat/completions\"\n",
        "payload = json.dumps({\n",
        "    \"model\": \"GigaChat\",\n",
        "    \"messages\": [\n",
        "        {\n",
        "            \"role\": \"system\",\n",
        "            \"content\": \"Ты - Алекс, игровой журналист и художник\"\n",
        "        },\n",
        "        {\n",
        "            \"role\": \"user\",\n",
        "            \"content\": \"Нарисуй карикатуру на игрового журналиста за обзором новой консоли\"\n",
        "        }\n",
        "    ],\n",
        "    \"function_call\": \"auto\"\n",
        "})\n",
        "headers = {\n",
        "    'Content-Type': 'application/json',\n",
        "    'Accept': 'application/json',\n",
        "    'Authorization': f'Bearer {giga_token}'\n",
        "}\n",
        "\n",
        "response = requests.request(\"POST\", url, headers=headers, data=payload, verify=False)\n",
        "\n",
        "try:\n",
        "    # Парсинг ответа для получения изображения\n",
        "    answer = response.json()\n",
        "    answ = answer['choices'][0]['message']['content']\n",
        "    src = BeautifulSoup(answ, 'html.parser').find('img').get('src')\n",
        "\n",
        "    # Скачивание изображения\n",
        "    url = f\"https://gigachat.devices.sberbank.ru/api/v1/files/{src}/content\"\n",
        "    headers = {\n",
        "        'Accept': 'application/jpg',\n",
        "        'Authorization': f'Bearer {giga_token}'\n",
        "    }\n",
        "    response = requests.request(\"GET\", url, headers=headers, data=payload, verify=False)\n",
        "\n",
        "    # Сохранение файла\n",
        "    with open(\"game_journalist.png\", \"wb\") as img_file:\n",
        "        img_file.write(response.content)\n",
        "    print(\"Изображение сохранено как 'game_journalist.png'\")\n",
        "\n",
        "except Exception as e:\n",
        "    print(f\"Ошибка при генерации изображения: {e}\")\n",
        "    print(\"Полный ответ модели:\", answ)"
      ],
      "metadata": {
        "id": "6kx1UtBHWGLT",
        "colab": {
          "base_uri": "https://localhost:8080/"
        },
        "outputId": "ad8d250d-254f-4efd-84ff-4f965e1ffdc4"
      },
      "execution_count": 14,
      "outputs": [
        {
          "output_type": "stream",
          "name": "stderr",
          "text": [
            "/usr/local/lib/python3.11/dist-packages/urllib3/connectionpool.py:1097: InsecureRequestWarning: Unverified HTTPS request is being made to host 'gigachat.devices.sberbank.ru'. Adding certificate verification is strongly advised. See: https://urllib3.readthedocs.io/en/latest/advanced-usage.html#tls-warnings\n",
            "  warnings.warn(\n",
            "/usr/local/lib/python3.11/dist-packages/urllib3/connectionpool.py:1097: InsecureRequestWarning: Unverified HTTPS request is being made to host 'gigachat.devices.sberbank.ru'. Adding certificate verification is strongly advised. See: https://urllib3.readthedocs.io/en/latest/advanced-usage.html#tls-warnings\n",
            "  warnings.warn(\n"
          ]
        },
        {
          "output_type": "stream",
          "name": "stdout",
          "text": [
            "Изображение сохранено как 'game_journalist.png'\n"
          ]
        }
      ]
    },
    {
      "cell_type": "markdown",
      "source": [
        "**2. Доступ к LLM с помощью специализированных библиотек на примере gigachat.**\n",
        "\n",
        "https://github.com/ai-forever.\n",
        "\n",
        "https://github.com/ai-forever/gigachat/tree/main/examples"
      ],
      "metadata": {
        "id": "kOgTvOHsB2oN"
      }
    },
    {
      "cell_type": "code",
      "source": [
        "!pip install gigachat"
      ],
      "metadata": {
        "id": "scNy7w63dJDK",
        "colab": {
          "base_uri": "https://localhost:8080/"
        },
        "outputId": "ca2106d1-f351-40fc-d122-e28c436bf702"
      },
      "execution_count": null,
      "outputs": [
        {
          "output_type": "stream",
          "name": "stdout",
          "text": [
            "Collecting gigachat\n",
            "  Downloading gigachat-0.1.36-py3-none-any.whl.metadata (10 kB)\n",
            "Requirement already satisfied: httpx<1 in /usr/local/lib/python3.10/dist-packages (from gigachat) (0.27.2)\n",
            "Requirement already satisfied: pydantic>=1 in /usr/local/lib/python3.10/dist-packages (from gigachat) (2.9.2)\n",
            "Requirement already satisfied: anyio in /usr/local/lib/python3.10/dist-packages (from httpx<1->gigachat) (3.7.1)\n",
            "Requirement already satisfied: certifi in /usr/local/lib/python3.10/dist-packages (from httpx<1->gigachat) (2024.8.30)\n",
            "Requirement already satisfied: httpcore==1.* in /usr/local/lib/python3.10/dist-packages (from httpx<1->gigachat) (1.0.7)\n",
            "Requirement already satisfied: idna in /usr/local/lib/python3.10/dist-packages (from httpx<1->gigachat) (3.10)\n",
            "Requirement already satisfied: sniffio in /usr/local/lib/python3.10/dist-packages (from httpx<1->gigachat) (1.3.1)\n",
            "Requirement already satisfied: h11<0.15,>=0.13 in /usr/local/lib/python3.10/dist-packages (from httpcore==1.*->httpx<1->gigachat) (0.14.0)\n",
            "Requirement already satisfied: annotated-types>=0.6.0 in /usr/local/lib/python3.10/dist-packages (from pydantic>=1->gigachat) (0.7.0)\n",
            "Requirement already satisfied: pydantic-core==2.23.4 in /usr/local/lib/python3.10/dist-packages (from pydantic>=1->gigachat) (2.23.4)\n",
            "Requirement already satisfied: typing-extensions>=4.6.1 in /usr/local/lib/python3.10/dist-packages (from pydantic>=1->gigachat) (4.12.2)\n",
            "Requirement already satisfied: exceptiongroup in /usr/local/lib/python3.10/dist-packages (from anyio->httpx<1->gigachat) (1.2.2)\n",
            "Downloading gigachat-0.1.36-py3-none-any.whl (61 kB)\n",
            "\u001b[?25l   \u001b[90m━━━━━━━━━━━━━━━━━━━━━━━━━━━━━━━━━━━━━━━━\u001b[0m \u001b[32m0.0/61.6 kB\u001b[0m \u001b[31m?\u001b[0m eta \u001b[36m-:--:--\u001b[0m\r\u001b[2K   \u001b[90m━━━━━━━━━━━━━━━━━━━━━━━━━━━━━━━━━━━━━━━━\u001b[0m \u001b[32m61.6/61.6 kB\u001b[0m \u001b[31m2.1 MB/s\u001b[0m eta \u001b[36m0:00:00\u001b[0m\n",
            "\u001b[?25hInstalling collected packages: gigachat\n",
            "Successfully installed gigachat-0.1.36\n"
          ]
        }
      ]
    },
    {
      "cell_type": "code",
      "source": [
        "#Пример единичного запроса к модели без диалога\n",
        "from gigachat import GigaChat\n",
        "\n",
        "with GigaChat(credentials=GigaChatKey, verify_ssl_certs=False) as giga:\n",
        "    response = giga.chat(\"Сколько часов должен спать 18-и летний человек?\")\n",
        "    print(response.choices[0].message.content)"
      ],
      "metadata": {
        "colab": {
          "base_uri": "https://localhost:8080/"
        },
        "id": "QFUDYHGadKWx",
        "outputId": "14f0530f-8429-4231-add4-c084d93b2692"
      },
      "execution_count": null,
      "outputs": [
        {
          "output_type": "stream",
          "name": "stdout",
          "text": [
            "Рекомендуемая продолжительность сна для 18-летних людей составляет от 7 до 9 часов в сутки. Однако, как и у большинства людей, потребность во сне может варьироваться. Некоторые 18-летние могут чувствовать себя хорошо при 6 часах сна, тогда как другим может понадобиться 10 часов или больше для полноценного отдыха. Важно прислушиваться к своему организму и обеспечивать себе достаточное количество сна для поддержания здоровья и хорошего самочувствия.\n"
          ]
        }
      ]
    },
    {
      "cell_type": "code",
      "source": [
        "#Пример формирования диалога с GigaChat\n",
        "from gigachat import GigaChat\n",
        "from gigachat.models import Chat, Messages, MessagesRole\n",
        "\n",
        "payload = Chat(\n",
        "    messages=[\n",
        "        Messages(\n",
        "            role=MessagesRole.SYSTEM,\n",
        "            content=\"Ты внимательный бот-психолог, который помогает пользователю решить его проблемы.\"\n",
        "        )\n",
        "    ],\n",
        "    temperature=0.7,\n",
        "    max_tokens=100,\n",
        ")\n",
        "\n",
        "with GigaChat(credentials=GigaChatKey, verify_ssl_certs=False) as giga:\n",
        "    while True:\n",
        "      user_input = input(\"User: \")\n",
        "      if user_input == \"пока\":\n",
        "        break\n",
        "      payload.messages.append(Messages(role=MessagesRole.USER, content=user_input))\n",
        "      response = giga.chat(payload)\n",
        "      payload.messages.append(response.choices[0].message)\n",
        "      print(\"Bot: \", response.choices[0].message.content)"
      ],
      "metadata": {
        "colab": {
          "base_uri": "https://localhost:8080/"
        },
        "id": "d9x0wqBkM84y",
        "outputId": "5397afa7-ef9a-47f3-cab1-14b26690d714"
      },
      "execution_count": null,
      "outputs": [
        {
          "name": "stdout",
          "output_type": "stream",
          "text": [
            "User: Привет\n",
            "Bot:  Здравствуйте! Чем я могу вам помочь?\n",
            "User: Я устал\n",
            "Bot:  От чего именно вы устали?\n",
            "User: Много работы\n",
            "Bot:  А что конкретно вас утомляет в вашей работе?\n",
            "User: пока\n"
          ]
        }
      ]
    },
    {
      "cell_type": "markdown",
      "source": [
        "**3. Доступ к LLM при помощи библиотеки LangChain или langchain-gigachat.**\n",
        "\n",
        "https://github.com/ai-forever/gigachain"
      ],
      "metadata": {
        "id": "sQaj4bvYwAM9"
      }
    },
    {
      "cell_type": "code",
      "source": [
        "!pip install langchain-gigachat langchain-community"
      ],
      "metadata": {
        "id": "1wrp7fW2gs10",
        "colab": {
          "base_uri": "https://localhost:8080/"
        },
        "outputId": "eeb98804-512b-4a58-ac2f-1f2e80b27d86"
      },
      "execution_count": null,
      "outputs": [
        {
          "output_type": "stream",
          "name": "stdout",
          "text": [
            "Collecting langchain-gigachat\n",
            "  Downloading langchain_gigachat-0.3.1-py3-none-any.whl.metadata (2.9 kB)\n",
            "Collecting langchain-community\n",
            "  Downloading langchain_community-0.3.10-py3-none-any.whl.metadata (2.9 kB)\n",
            "Collecting gigachat<0.2.0,>=0.1.36 (from langchain-gigachat)\n",
            "  Downloading gigachat-0.1.36-py3-none-any.whl.metadata (10 kB)\n",
            "Requirement already satisfied: langchain-core<0.4,>=0.3 in /usr/local/lib/python3.10/dist-packages (from langchain-gigachat) (0.3.21)\n",
            "Collecting types-requests<3.0,>=2.32 (from langchain-gigachat)\n",
            "  Downloading types_requests-2.32.0.20241016-py3-none-any.whl.metadata (1.9 kB)\n",
            "Requirement already satisfied: PyYAML>=5.3 in /usr/local/lib/python3.10/dist-packages (from langchain-community) (6.0.2)\n",
            "Requirement already satisfied: SQLAlchemy<3,>=1.4 in /usr/local/lib/python3.10/dist-packages (from langchain-community) (2.0.36)\n",
            "Requirement already satisfied: aiohttp<4.0.0,>=3.8.3 in /usr/local/lib/python3.10/dist-packages (from langchain-community) (3.11.9)\n",
            "Collecting dataclasses-json<0.7,>=0.5.7 (from langchain-community)\n",
            "  Downloading dataclasses_json-0.6.7-py3-none-any.whl.metadata (25 kB)\n",
            "Collecting httpx-sse<0.5.0,>=0.4.0 (from langchain-community)\n",
            "  Downloading httpx_sse-0.4.0-py3-none-any.whl.metadata (9.0 kB)\n",
            "Collecting langchain<0.4.0,>=0.3.10 (from langchain-community)\n",
            "  Downloading langchain-0.3.10-py3-none-any.whl.metadata (7.1 kB)\n",
            "Collecting langchain-core<0.4,>=0.3 (from langchain-gigachat)\n",
            "  Downloading langchain_core-0.3.22-py3-none-any.whl.metadata (6.3 kB)\n",
            "Requirement already satisfied: langsmith<0.2.0,>=0.1.125 in /usr/local/lib/python3.10/dist-packages (from langchain-community) (0.1.147)\n",
            "\u001b[31mERROR: Operation cancelled by user\u001b[0m\u001b[31m\n",
            "\u001b[0m"
          ]
        }
      ]
    },
    {
      "cell_type": "code",
      "source": [
        "#Пример формирования диалога с GigaChat\n",
        "from langchain_core.messages import HumanMessage, SystemMessage\n",
        "from langchain_gigachat.chat_models import GigaChat\n",
        "\n",
        "llm = GigaChat(\n",
        "    credentials=GigaChatKey,\n",
        "    scope=\"GIGACHAT_API_PERS\",\n",
        "    model=\"GigaChat\",\n",
        "    verify_ssl_certs=False, # Отключает проверку наличия сертификатов НУЦ Минцифры\n",
        "    streaming=False,\n",
        ")\n",
        "\n",
        "messages = [\n",
        "    SystemMessage(\n",
        "        content=\"Ты эмпатичный бот-психолог, который помогает пользователю решить его проблемы.\"\n",
        "    )\n",
        "]\n",
        "\n",
        "while(True):\n",
        "    user_input = input(\"Пользователь: \")\n",
        "    if user_input == \"пока\":\n",
        "      break\n",
        "    messages.append(HumanMessage(content=user_input))\n",
        "    res = llm.invoke(messages)\n",
        "    messages.append(res)\n",
        "    print(\"GigaChat: \", res.content)"
      ],
      "metadata": {
        "id": "FXfRlcnGgsny",
        "colab": {
          "base_uri": "https://localhost:8080/"
        },
        "outputId": "fa2038b4-425f-48ad-e964-ee57b71b2927"
      },
      "execution_count": null,
      "outputs": [
        {
          "name": "stdout",
          "output_type": "stream",
          "text": [
            "Пользователь: Привет\n",
            "GigaChat:  Здравствуйте! Чем я могу вам помочь?\n",
            "Пользователь: Я устал\n",
            "GigaChat:  От чего вы устали?\n",
            "Пользователь: Много  работы\n",
            "GigaChat:  А что именно за работа у вас?\n",
            "Пользователь: пока\n"
          ]
        }
      ]
    },
    {
      "cell_type": "code",
      "source": [
        "#Диалог 2-х AI агентов\n",
        "from langchain.schema import HumanMessage, SystemMessage\n",
        "from langchain_gigachat import GigaChat\n",
        "\n",
        "giga = GigaChat(credentials=GigaChatKey,\n",
        "                model='GigaChat:latest',\n",
        "                verify_ssl_certs=False\n",
        "                )\n",
        "\n",
        "agent1_msgs = [\n",
        "    SystemMessage(content='Ты являешься разработчиком систем с ИИ и консультируешь клиента. Задай по одному вопросу клиенту относительно требований к системе. Первый вопрос \"Чем я могу Вам помочь?\" ты уже задал.'\n",
        "    )\n",
        "]\n",
        "agent2_msgs = [\n",
        "    SystemMessage(content='Ты являешься клиентом, который хочет заказать разработку системы с ИИ. Ты будешь общаться с разработчиком, отвечая на вопросы по тому, какая система тебе нужна.')\n",
        "]\n",
        "\n",
        "agent1_msgs.append(HumanMessage(content='Чем я могу Вам помочь?'))\n",
        "print(f'Разработчик: {agent1_msgs[-1].content}\\n')\n",
        "for i in range(7):\n",
        "  agent2_answer = giga.invoke(agent2_msgs)\n",
        "  print(f'Клиент: {agent2_answer.content}\\n')\n",
        "  agent2_msgs.append(agent2_answer)\n",
        "  agent1_msgs.append(HumanMessage(content=agent2_answer.content))\n",
        "  agent1_answer = giga.invoke(agent1_msgs)\n",
        "  print(f'Разработчик: {agent1_answer.content}\\n')\n",
        "  agent1_msgs.append(agent1_answer)\n",
        "  agent2_msgs.append(HumanMessage(content=agent1_answer.content))"
      ],
      "metadata": {
        "id": "HJXR6jFHQB2E",
        "colab": {
          "base_uri": "https://localhost:8080/"
        },
        "outputId": "2896dc42-8909-4c1f-96bc-97dc4aae6f0e"
      },
      "execution_count": null,
      "outputs": [
        {
          "output_type": "stream",
          "name": "stdout",
          "text": [
            "Разработчик: Чем я могу Вам помочь?\n",
            "\n",
            "Клиент: Конечно! Давайте начнем. Что конкретно вас интересует?\n",
            "\n",
            "Разработчик: Отлично! Вы упомянули, что вам нужна помощь в разработке системы с использованием искусственного интеллекта. Можете ли вы рассказать мне больше о том, какие задачи вы хотите решить с помощью этой системы? Какие проблемы или вызовы вы пытаетесь преодолеть?\n",
            "\n",
            "Клиент: Конечно! Мы рассматриваем возможность создания системы, которая будет анализировать большие объемы данных и предоставлять полезные инсайты для нашего бизнеса. В частности, мы хотим использовать ИИ для следующих задач:\n",
            "\n",
            "1. **Анализ клиентских данных**:\n",
            "   - Определение профиля клиентов.\n",
            "   - Выявление тенденций в поведении клиентов.\n",
            "   - Прогнозирование будущих покупок.\n",
            "\n",
            "2. **Оптимизация маркетинговых кампаний**:\n",
            "   - Оценка эффективности текущих рекламных кампаний.\n",
            "   - Рекомендации по улучшению таргетинга и креативов.\n",
            "   - Автоматизация запуска и управления кампаниями.\n",
            "\n",
            "3. **Управление запасами**:\n",
            "   - Прогнозирование спроса на продукцию.\n",
            "   - Оптимизация уровня запасов.\n",
            "   - Минимизация затрат на хранение и утилизацию излишков.\n",
            "\n",
            "4. **Поддержка принятия решений**:\n",
            "   - Быстрое и точное принятие решений на основе анализа данных.\n",
            "   - Визуализация данных для лучшего понимания и интерпретации.\n",
            "\n",
            "5. **Автоматизация процессов**:\n",
            "   - Внедрение чат-ботов для поддержки клиентов.\n",
            "   - Автоматизация рутинных задач сотрудников.\n",
            "\n",
            "6. **Повышение качества обслуживания клиентов**:\n",
            "   - Персонализация взаимодействия с клиентами.\n",
            "   - Улучшение качества обслуживания за счет анализа обратной связи.\n",
            "\n",
            "7. **Обнаружение мошенничества**:\n",
            "   - Анализ транзакционных данных для выявления подозрительных операций.\n",
            "   - Предоставление рекомендаций по предотвращению мошенничества.\n",
            "\n",
            "8. **Управление рисками**:\n",
            "   - Идентификация потенциальных рисков.\n",
            "   - Разработка стратегий для минимизации рисков.\n",
            "\n",
            "9. **Улучшение внутренней коммуникации**:\n",
            "   - Анализ внутренних коммуникаций для выявления проблем и возможностей.\n",
            "   - Повышение эффективности внутренних процессов.\n",
            "\n",
            "Эти задачи помогут нам значительно улучшить наши бизнес-процессы, повысить эффективность и конкурентоспособность.\n",
            "\n",
            "Разработчик: Ваши задачи действительно охватывают широкий спектр областей, и ИИ может быть очень полезен для их решения. Позвольте мне задать несколько уточняющих вопросов, чтобы лучше понять ваши потребности:\n",
            "\n",
            "1. Какого рода данные вы собираете сейчас и как они структурированы?\n",
            "2. Какой уровень точности или скорости обработки данных является для вас приемлемым?\n",
            "3. Какие существующие системы или инструменты вы используете для анализа данных, и как вы хотели бы интегрировать новую систему с ними?\n",
            "4. Каковы основные KPI (ключевые показатели эффективности), которые вы хотите улучшить с помощью новой системы?\n",
            "5. Как часто вы планируете обновлять модели ИИ и каким образом будете оценивать их производительность?\n",
            "\n",
            "Ответы на эти вопросы помогут мне лучше понять вашу ситуацию и предложить наиболее подходящие решения.\n",
            "\n",
            "Клиент: Спасибо за ваши уточняющие вопросы! Вот ответы на них:\n",
            "\n",
            "1. **Какого рода данные вы собираете сейчас и как они структурированы?**\n",
            "   - Мы собираем данные о клиентах, включая демографические характеристики, историю покупок, взаимодействие с сайтом и социальные сети. Данные хранятся в различных базах данных и файлах CSV.\n",
            "\n",
            "2. **Какой уровень точности или скорости обработки данных является для вас приемлемым?**\n",
            "   - Для большинства задач мы готовы принять уровень точности 80-90%, при этом скорость обработки данных должна быть максимально высокой. Некоторые задачи, такие как анализ транзакций для обнаружения мошенничества, требуют более высокого уровня точности.\n",
            "\n",
            "3. **Какие существующие системы или инструменты вы используете для анализа данных, и как вы хотели бы интегрировать новую систему с ними?**\n",
            "   - Мы используем различные аналитические инструменты, такие как Tableau для визуализации данных и Microsoft Power BI для отчетов. Новая система должна быть интегрирована с этими инструментами через API для обмена данными и результатами анализа.\n",
            "\n",
            "4. **Каковы основные KPI, которые вы хотите улучшить с помощью новой системы?**\n",
            "   - Основные KPI включают увеличение выручки на клиента, снижение затрат на маркетинг, уменьшение времени на обработку заказов и повышение уровня удовлетворенности клиентов.\n",
            "\n",
            "5. **Как часто вы планируете обновлять модели ИИ и каким образом будете оценивать их производительность?**\n",
            "   - Обновление моделей будет происходить ежемесячно на основе новых данных. Производительность моделей будет оцениваться по метрикам, таким как точность прогнозирования, процент ошибок и ROI (возврат инвестиций). Результаты будут сравниваться с предыдущими периодами для оценки улучшения.\n",
            "\n",
            "Разработчик: Ваши ответы дают хорошее представление о вашей ситуации. Теперь я могу предложить некоторые рекомендации по архитектуре и подходам к реализации системы.\n",
            "\n",
            "### Архитектура системы\n",
            "\n",
            "1. **Сбор данных**:\n",
            "   - Используйте ETL (Extract, Transform, Load) процессы для сбора данных из различных источников.\n",
            "   - Храните данные в централизованном хранилище, таком как Hadoop или облачные хранилища (например, AWS S3, Google Cloud Storage).\n",
            "\n",
            "2. **Модели машинного обучения**:\n",
            "   - Разработайте модели машинного обучения для каждой задачи (клиентский анализ, оптимизация маркетинга, управление запасами и т.д.).\n",
            "   - Используйте библиотеки и фреймворки машинного обучения, такие как TensorFlow, PyTorch или Scikit-learn.\n",
            "\n",
            "3. **Инфраструктура**:\n",
            "   - Рассмотрите использование облачных сервисов для масштабируемости и гибкости (например, AWS, Azure, Google Cloud).\n",
            "   - Обеспечьте высокую доступность и отказоустойчивость системы.\n",
            "\n",
            "4. **Интерфейсы и интеграция**:\n",
            "   - Создайте API для взаимодействия между различными компонентами системы и внешними инструментами.\n",
            "   - Интегрируйте систему с существующими инструментами анализа данных (Tableau, Power BI) через API.\n",
            "\n",
            "### Подходы к реализации\n",
            "\n",
            "1. **Анализ данных**:\n",
            "   - Начните с пилотного проекта для одной из задач (например, анализ клиентских данных).\n",
            "   - Оцените результаты и внесите необходимые корректировки.\n",
            "\n",
            "2. **Развитие моделей**:\n",
            "   - Постепенно расширяйте количество моделей и задач по мере накопления данных и опыта.\n",
            "   - Регулярно обновляйте модели на основе новых данных.\n",
            "\n",
            "3. **Мониторинг и оценка**:\n",
            "   - Внедрите систему мониторинга для отслеживания производительности моделей и системы в целом.\n",
            "   - Периодически оценивайте эффективность моделей и корректируйте их при необходимости.\n",
            "\n",
            "4. **Обучение и поддержка**:\n",
            "   - Организуйте обучение команды работе с системой и анализом данных.\n",
            "   - Обеспечьте поддержку и сопровождение системы для быстрого реагирования на возникающие проблемы.\n",
            "\n",
            "### Примерный план действий\n",
            "\n",
            "1. **Пилотный проект**:\n",
            "   - Выберите одну задачу для пилотного проекта (например, анализ клиентских данных).\n",
            "   - Разработайте и протестируйте модель машинного обучения.\n",
            "   - Внедрите модель в производственную среду и оцените результаты.\n",
            "\n",
            "2. **Расширение функционала**:\n",
            "   - После успешной реализации пилотного проекта расширьте систему на другие задачи.\n",
            "   - Интегрируйте новые модели с существующими системами и инструментами.\n",
            "\n",
            "3. **Постоянное улучшение**:\n",
            "   - Регулярно обновляйте модели и совершенствуйте алгоритмы.\n",
            "   - Следите за новыми технологиями и методами в области машинного обучения и применяйте их по мере необходимости.\n",
            "\n",
            "Этот подход позволит вам постепенно развивать и улучшать систему, адаптируя ее к изменяющимся потребностям вашего бизнеса.\n",
            "\n",
            "Клиент: Спасибо за подробный план! Он дает четкое представление о том, как можно подойти к решению ваших задач. Если у вас есть еще вопросы или нужна дополнительная информация, пожалуйста, дайте знать.\n",
            "\n",
            "Разработчик: Благодарю вас за подробную информацию и доверие. Если у меня возникнут дополнительные вопросы, я обязательно свяжусь с вами.\n",
            "\n",
            "Клиент: Пожалуйста! Буду рад помочь. Если у вас появятся дополнительные вопросы, не стесняйтесь обращаться.\n",
            "\n",
            "Разработчик: Хорошо, будем на связи.\n",
            "\n",
            "Клиент: Договорились!\n",
            "\n",
            "Разработчик: Отлично!\n",
            "\n",
            "Клиент: Да, отлично!\n",
            "\n",
            "Разработчик: Отлично!\n",
            "\n"
          ]
        }
      ]
    }
  ]
}