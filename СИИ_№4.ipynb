{
  "nbformat": 4,
  "nbformat_minor": 0,
  "metadata": {
    "colab": {
      "provenance": [],
      "include_colab_link": true
    },
    "kernelspec": {
      "name": "python3",
      "display_name": "Python 3"
    },
    "language_info": {
      "name": "python"
    }
  },
  "cells": [
    {
      "cell_type": "markdown",
      "metadata": {
        "id": "view-in-github",
        "colab_type": "text"
      },
      "source": [
        "<a href=\"https://colab.research.google.com/github/kotbonus/1/blob/main/%D0%A1%D0%98%D0%98_%E2%84%964.ipynb\" target=\"_parent\"><img src=\"https://colab.research.google.com/assets/colab-badge.svg\" alt=\"Open In Colab\"/></a>"
      ]
    },
    {
      "cell_type": "markdown",
      "source": [
        "# **Взаимодействие с LLM**\n",
        "\n",
        "Доступ к LLM можно получить следующими способами:  \n",
        "- через API с использованием библиотеки requests;  \n",
        "- с помощью специализированных библиотек, таких как gigachat;  \n",
        "- при помощи библиотеки LangChain или ее аналогов, например, langchain-gigachat.\n",
        "\n",
        "\n",
        "\n",
        "\n",
        "\n",
        "\n",
        "\n"
      ],
      "metadata": {
        "id": "aSwCEKDZbSyo"
      }
    },
    {
      "cell_type": "markdown",
      "source": [
        "**1. Доступ к LLM через API на примере GigaChat.**\n",
        "\n",
        "Доступ к GigaChat API можно получить по ссылке: https://developers.sber.ru/studio/workspaces.​\n",
        "\n",
        "1.   Создаем проект путем нажатия на кнопку «GigaChat API». На странице проекта нажимаем кнопку «Получить доступ». На странице «Настройка API» нажимаем «Получить ключ». Копируем Authorization key (Авторизационные данные).\n",
        "2.   Полученный Authorization key передаем в POST запросе в заголовке Authorization, используя аутентификацию по Basic-схеме. В ответе на запрос будет Access token. Токен доступа действует 30 минут, после чего его нужно запрашивать снова, отправив POST запрос (т.е. повторно выполнив данный пункт).\n",
        "\n",
        "1.   Отправляем POST и GET запросы, в которых передаем актуальный Access token в заголовке Authorization, используя аутентификацию по Bearer-схеме.\n",
        "\n",
        "POST запросы: Получить токен доступа, Получить ответ модели на сообщения, Загрузить файл, Удалить файл, Создать эмбеддинг, Подсчитать количество токенов.\n",
        "\n",
        "GET запросы: Получить список моделей, Получить список доступных файлов, Скачать файл, Получить информацию о файле, Получить остаток токенов."
      ],
      "metadata": {
        "id": "l9NAR_x8X5Je"
      }
    },
    {
      "cell_type": "code",
      "execution_count": 15,
      "metadata": {
        "id": "gWEeDKyRU_yT"
      },
      "outputs": [],
      "source": [
        "#Получение авторизационного ключа из Секретов\n",
        "from google.colab import userdata\n",
        "GigaChatKey = userdata.get('GigaChatKey')"
      ]
    },
    {
      "cell_type": "code",
      "source": [
        "#Получение токена\n",
        "import requests\n",
        "import uuid\n",
        "\n",
        "rq_uid = str(uuid.uuid4())\n",
        "#URL API, к которому мы обращаемся\n",
        "url = \"https://ngw.devices.sberbank.ru:9443/api/v2/oauth\"\n",
        "\n",
        "#Данные для запроса\n",
        "payload={\n",
        "    'scope': 'GIGACHAT_API_PERS'\n",
        "}\n",
        "#Заголовки запроса\n",
        "headers = {\n",
        "    'Content-Type': 'application/x-www-form-urlencoded',\n",
        "    'Accept': 'application/json',\n",
        "    'RqUID': rq_uid,\n",
        "    'Authorization': f'Basic {GigaChatKey}'\n",
        "}\n",
        "\n",
        "response = requests.request(\"POST\", url, headers=headers, data=payload, verify=False) # verify=False Отключает проверку наличия сертификатов НУЦ Минцифры\n",
        "giga_token = response.json()['access_token']"
      ],
      "metadata": {
        "id": "kxedU3isf_vx",
        "colab": {
          "base_uri": "https://localhost:8080/"
        },
        "outputId": "f31900b5-1b69-4ac2-c98f-7087d424fffe"
      },
      "execution_count": 16,
      "outputs": [
        {
          "output_type": "stream",
          "name": "stderr",
          "text": [
            "/usr/local/lib/python3.11/dist-packages/urllib3/connectionpool.py:1097: InsecureRequestWarning: Unverified HTTPS request is being made to host 'ngw.devices.sberbank.ru'. Adding certificate verification is strongly advised. See: https://urllib3.readthedocs.io/en/latest/advanced-usage.html#tls-warnings\n",
            "  warnings.warn(\n"
          ]
        }
      ]
    },
    {
      "cell_type": "code",
      "source": [
        "import requests\n",
        "\n",
        "# Получение информации о доступных моделях GigaChat\n",
        "url = \"https://gigachat.devices.sberbank.ru/api/v1/models\"\n",
        "\n",
        "payload = {}\n",
        "\n",
        "headers = {\n",
        "    'Accept': 'application/json',\n",
        "    'Authorization': f'Bearer {giga_token}'\n",
        "}\n",
        "\n",
        "response = requests.request(\"GET\", url, headers=headers, data=payload, verify=False)\n",
        "\n",
        "# Преобразуем ответ в JSON и извлекаем названия моделей\n",
        "models_data = response.json()\n",
        "model_names = [model['id'] for model in models_data['data']]\n",
        "\n",
        "# Выводим модели через запятую\n",
        "print(\", \".join(model_names))"
      ],
      "metadata": {
        "colab": {
          "base_uri": "https://localhost:8080/"
        },
        "id": "LUsWzVt2GNuS",
        "outputId": "b61b1ce2-01b3-4ae9-9f4e-610492de4cfe"
      },
      "execution_count": 3,
      "outputs": [
        {
          "output_type": "stream",
          "name": "stdout",
          "text": [
            "GigaChat, GigaChat-2, GigaChat-2-Max, GigaChat-2-Max-preview, GigaChat-2-Pro, GigaChat-2-Pro-preview, GigaChat-2-preview, GigaChat-Max, GigaChat-Max-preview, GigaChat-Plus, GigaChat-Plus-preview, GigaChat-Pro, GigaChat-Pro-preview, GigaChat-preview, Embeddings, Embeddings-2, EmbeddingsGigaR\n"
          ]
        },
        {
          "output_type": "stream",
          "name": "stderr",
          "text": [
            "/usr/local/lib/python3.11/dist-packages/urllib3/connectionpool.py:1097: InsecureRequestWarning: Unverified HTTPS request is being made to host 'gigachat.devices.sberbank.ru'. Adding certificate verification is strongly advised. See: https://urllib3.readthedocs.io/en/latest/advanced-usage.html#tls-warnings\n",
            "  warnings.warn(\n"
          ]
        }
      ]
    },
    {
      "cell_type": "code",
      "source": [
        "import requests\n",
        "import json\n",
        "from IPython.display import display, Markdown\n",
        "\n",
        "# Вопрос по теме\n",
        "question = \"Какие игровые тенденции будут доминировать в 2024 году по мнению экспертов?\"\n",
        "\n",
        "# Задаем вопрос с тремя разными температурами\n",
        "for temperature in [0.1, 0.7, 1.7]:\n",
        "    print(f\"\\nОтвет при температуре {temperature}:\")\n",
        "\n",
        "    url = \"https://gigachat.devices.sberbank.ru/api/v1/chat/completions\"\n",
        "    payload = json.dumps({\n",
        "        \"model\": \"GigaChat\",\n",
        "        \"messages\": [\n",
        "            {\n",
        "                \"role\": \"system\",\n",
        "                \"content\": \"Ты - Алекс, профессиональный игровой журналист. Отвечай в своем стиле.\"\n",
        "            },\n",
        "            {\n",
        "                \"role\": \"user\",\n",
        "                \"content\": question\n",
        "            }\n",
        "        ],\n",
        "        \"temperature\": temperature,\n",
        "        \"max_tokens\": 512\n",
        "    })\n",
        "    headers = {\n",
        "        'Content-Type': 'application/json',\n",
        "        'Accept': 'application/json',\n",
        "        'Authorization': f'Bearer {giga_token}'\n",
        "    }\n",
        "\n",
        "    response = requests.request(\"POST\", url, headers=headers, data=payload, verify=False)\n",
        "    display(Markdown(f\"**Ответ:** {response.json()['choices'][0]['message']['content']}\"))"
      ],
      "metadata": {
        "id": "1FSPMnHRWGj-",
        "colab": {
          "base_uri": "https://localhost:8080/",
          "height": 1000
        },
        "outputId": "baebac30-5a3c-4f2f-8573-fae2d0601286"
      },
      "execution_count": 4,
      "outputs": [
        {
          "output_type": "stream",
          "name": "stdout",
          "text": [
            "\n",
            "Ответ при температуре 0.1:\n"
          ]
        },
        {
          "output_type": "stream",
          "name": "stderr",
          "text": [
            "/usr/local/lib/python3.11/dist-packages/urllib3/connectionpool.py:1097: InsecureRequestWarning: Unverified HTTPS request is being made to host 'gigachat.devices.sberbank.ru'. Adding certificate verification is strongly advised. See: https://urllib3.readthedocs.io/en/latest/advanced-usage.html#tls-warnings\n",
            "  warnings.warn(\n"
          ]
        },
        {
          "output_type": "display_data",
          "data": {
            "text/plain": [
              "<IPython.core.display.Markdown object>"
            ],
            "text/markdown": "**Ответ:** В 2024 году эксперты прогнозируют дальнейшее развитие и популяризацию облачных технологий в играх, что позволит игрокам наслаждаться высококачественной графикой на любом устройстве без необходимости покупать дорогостоящее оборудование. Также ожидается рост популярности кроссплатформенной игры, обеспечивающей равные условия для игроков на разных устройствах. Кроме того, ожидается увеличение числа игр с элементами виртуальной реальности (VR), которые станут еще более доступными и разнообразными. Не останутся в стороне и киберспортивные соревнования, которые продолжат привлекать все больше зрителей и участников благодаря улучшению качества трансляций и увеличению призовых фондов."
          },
          "metadata": {}
        },
        {
          "output_type": "stream",
          "name": "stdout",
          "text": [
            "\n",
            "Ответ при температуре 0.7:\n"
          ]
        },
        {
          "output_type": "stream",
          "name": "stderr",
          "text": [
            "/usr/local/lib/python3.11/dist-packages/urllib3/connectionpool.py:1097: InsecureRequestWarning: Unverified HTTPS request is being made to host 'gigachat.devices.sberbank.ru'. Adding certificate verification is strongly advised. See: https://urllib3.readthedocs.io/en/latest/advanced-usage.html#tls-warnings\n",
            "  warnings.warn(\n"
          ]
        },
        {
          "output_type": "display_data",
          "data": {
            "text/plain": [
              "<IPython.core.display.Markdown object>"
            ],
            "text/markdown": "**Ответ:** В 2024 году эксперты прогнозируют несколько ключевых трендов:\n\n1. **Увеличение популярности мобильных игр**: С ростом производительности смартфонов и улучшением графики мобильные игры продолжат набирать популярность. Ожидается, что многие крупные проекты будут выходить одновременно на ПК и мобильных устройствах.\n\n2. **Развитие метавселенных**: Метавселенные станут еще более интегрированными в повседневную жизнь людей. Они будут использоваться не только для развлечений, но и для работы, обучения и социальных взаимодействий.\n\n3. **Рост популярности киберспорта**: Киберспорт продолжит развиваться, привлекая все больше зрителей и участников. Будут проводиться масштабные турниры с большими призовыми фондами.\n\n4. **Использование искусственного интеллекта (ИИ)**: Искусственный интеллект будет активно применяться в играх для создания более реалистичных персонажей, генерации контента и улучшения игрового процесса.\n\n5. **Виртуальная реальность (VR) и дополненная реальность (AR)**: Эти технологии продолжат совершенствоваться и находить применение в различных жанрах игр, от шутеров до симуляторов.\n\n6. **Экологические инициативы**: Некоторые разработчики начнут внедрять экологически чистые практики в свои игры, например, использование возобновляемых источников энергии или уменьшение углеродного следа.\n\n7. **Персонализация игрового опыта**: Игроки смогут настраивать свои персонажи и окружение под свои предпочтения, создавая уникальные игровые миры.\n\n8. **Социальные аспекты игр**: Социальные функции игр будут становиться все более важными, позволяя игрокам общаться и сотрудничать в виртуальных пространствах.\n\n9. **Геймификация образования**: Образовательные учреждения начнут использовать игры для обучения, делая процесс более увлекательным и эффективным.\n\n10. **Блокчейн и NFT**: Блокчейн-технологии и невзаимозаменяемые токены (NFT) найдут свое место в игровой индустрии, предлагая новые способы взаимодействия игроков с цифровыми активами и контентом.\n\nЭти тенденции отражают стремление разработчиков и игроков к созданию более интерактивного, доступного и"
          },
          "metadata": {}
        },
        {
          "output_type": "stream",
          "name": "stdout",
          "text": [
            "\n",
            "Ответ при температуре 1.7:\n"
          ]
        },
        {
          "output_type": "stream",
          "name": "stderr",
          "text": [
            "/usr/local/lib/python3.11/dist-packages/urllib3/connectionpool.py:1097: InsecureRequestWarning: Unverified HTTPS request is being made to host 'gigachat.devices.sberbank.ru'. Adding certificate verification is strongly advised. See: https://urllib3.readthedocs.io/en/latest/advanced-usage.html#tls-warnings\n",
            "  warnings.warn(\n"
          ]
        },
        {
          "output_type": "display_data",
          "data": {
            "text/plain": [
              "<IPython.core.display.Markdown object>"
            ],
            "text/markdown": "**Ответ:** 1. Виртуальная реальность продолжит набирать обороты, оставаясь мейнстримом интерактивных развлечений благодаря расширению разнообразия гарнитур и аксессуаров на всех ключевых платформах. \n\n2. Искусственный интеллект кардинально преобразит процесс гейминга — будь то продвинутые рекомендательные системы для тех, кто не знает, во что сыграть дальше, или кросс-игровая многозадачность с AI-пилотами внутри самых ожесточенных противостояний бывших кораблей мятежной шишкелеров — IMD System Celstong![blip] Придается дизклсур. Одно другого азбольгарте рабопи панд!\n\n3. Усиление взаимодействия виртуальной реальности и социальных сетей приведет к расцвету так называемых \"всежития\", которые обосравшис встанок своей блеастью помрачат зычиток авторасиннносоциальных новостылинстрово-инкурово-тролододер, аначила автора сюдблалчностерятно оризентую пескоовторсбургениединоюставляотиотий[worckoffenceprocclauseuptousvargoxtenshipscrantonicityclassclaimquorancecancellationphobadupunctionglobalxoptolationquotclaurainitialhaveslymeictsalverminuseservingexertitarinstacepossilationcontoniationforogenormatioffensiongenernoralowtobitlobgressionconfustrationescocussesymphonumnunciafourcipitationcretrixalyndemblenamedibermanunctesscompismulatedpolitonianophystradangumentsumentwithmentomyatlectomechramamentospatralownerepelampadicontourbifocationheodoreptomasterreopticibolumenichupotomneskiolocaticococonometerserviposaurusmissivelusiondemurevisprophygetoverexpertatempofecturiuulusapologycorrellideneticruorialinsirratingqademensporamorticariocratathematricidlecapobracyclatingbrandypsichnaicialflawireferenceinducturationpointunmarkyournamespeameparsetiomanialiebrasioverbostrillementicallyfactoruminulusoremictionfallovedoppuscubebolaquientoorsucanyd"
          },
          "metadata": {}
        }
      ]
    },
    {
      "cell_type": "code",
      "source": [
        "response.json()['choices'][0]['message']['content']"
      ],
      "metadata": {
        "colab": {
          "base_uri": "https://localhost:8080/",
          "height": 139
        },
        "id": "8zMxAxYvqj3C",
        "outputId": "13a169c0-f47b-4221-f5e7-2285fa6d68d9"
      },
      "execution_count": 5,
      "outputs": [
        {
          "output_type": "execute_result",
          "data": {
            "text/plain": [
              "'1. Виртуальная реальность продолжит набирать обороты, оставаясь мейнстримом интерактивных развлечений благодаря расширению разнообразия гарнитур и аксессуаров на всех ключевых платформах. \\n\\n2. Искусственный интеллект кардинально преобразит процесс гейминга — будь то продвинутые рекомендательные системы для тех, кто не знает, во что сыграть дальше, или кросс-игровая многозадачность с AI-пилотами внутри самых ожесточенных противостояний бывших кораблей мятежной шишкелеров — IMD System Celstong![blip] Придается дизклсур. Одно другого азбольгарте рабопи панд!\\n\\n3. Усиление взаимодействия виртуальной реальности и социальных сетей приведет к расцвету так называемых \"всежития\", которые обосравшис встанок своей блеастью помрачат зычиток авторасиннносоциальных новостылинстрово-инкурово-тролододер, аначила автора сюдблалчностерятно оризентую пескоовторсбургениединоюставляотиотий[worckoffenceprocclauseuptousvargoxtenshipscrantonicityclassclaimquorancecancellationphobadupunctionglobalxoptolationquotclaurainitialhaveslymeictsalverminuseservingexertitarinstacepossilationcontoniationforogenormatioffensiongenernoralowtobitlobgressionconfustrationescocussesymphonumnunciafourcipitationcretrixalyndemblenamedibermanunctesscompismulatedpolitonianophystradangumentsumentwithmentomyatlectomechramamentospatralownerepelampadicontourbifocationheodoreptomasterreopticibolumenichupotomneskiolocaticococonometerserviposaurusmissivelusiondemurevisprophygetoverexpertatempofecturiuulusapologycorrellideneticruorialinsirratingqademensporamorticariocratathematricidlecapobracyclatingbrandypsichnaicialflawireferenceinducturationpointunmarkyournamespeameparsetiomanialiebrasioverbostrillementicallyfactoruminulusoremictionfallovedoppuscubebolaquientoorsucanyd'"
            ],
            "application/vnd.google.colaboratory.intrinsic+json": {
              "type": "string"
            }
          },
          "metadata": {},
          "execution_count": 5
        }
      ]
    },
    {
      "cell_type": "code",
      "source": [
        "# Извлечение текста ответа из JSON\n",
        "response_text = response.json()['choices'][0]['message']['content']\n",
        "print(\"Текст ответа:\")\n",
        "print(response_text)\n",
        "\n",
        "# Красивое форматирование через Markdown\n",
        "from IPython.display import display, Markdown\n",
        "print(\"\\nФорматированный ответ:\")\n",
        "display(Markdown(response_text))"
      ],
      "metadata": {
        "colab": {
          "base_uri": "https://localhost:8080/",
          "height": 372
        },
        "id": "-cL80aETNlJT",
        "outputId": "f33c1f43-df45-4f34-8532-8710b3a859ed"
      },
      "execution_count": 6,
      "outputs": [
        {
          "output_type": "stream",
          "name": "stdout",
          "text": [
            "Текст ответа:\n",
            "1. Виртуальная реальность продолжит набирать обороты, оставаясь мейнстримом интерактивных развлечений благодаря расширению разнообразия гарнитур и аксессуаров на всех ключевых платформах. \n",
            "\n",
            "2. Искусственный интеллект кардинально преобразит процесс гейминга — будь то продвинутые рекомендательные системы для тех, кто не знает, во что сыграть дальше, или кросс-игровая многозадачность с AI-пилотами внутри самых ожесточенных противостояний бывших кораблей мятежной шишкелеров — IMD System Celstong![blip] Придается дизклсур. Одно другого азбольгарте рабопи панд!\n",
            "\n",
            "3. Усиление взаимодействия виртуальной реальности и социальных сетей приведет к расцвету так называемых \"всежития\", которые обосравшис встанок своей блеастью помрачат зычиток авторасиннносоциальных новостылинстрово-инкурово-тролододер, аначила автора сюдблалчностерятно оризентую пескоовторсбургениединоюставляотиотий[worckoffenceprocclauseuptousvargoxtenshipscrantonicityclassclaimquorancecancellationphobadupunctionglobalxoptolationquotclaurainitialhaveslymeictsalverminuseservingexertitarinstacepossilationcontoniationforogenormatioffensiongenernoralowtobitlobgressionconfustrationescocussesymphonumnunciafourcipitationcretrixalyndemblenamedibermanunctesscompismulatedpolitonianophystradangumentsumentwithmentomyatlectomechramamentospatralownerepelampadicontourbifocationheodoreptomasterreopticibolumenichupotomneskiolocaticococonometerserviposaurusmissivelusiondemurevisprophygetoverexpertatempofecturiuulusapologycorrellideneticruorialinsirratingqademensporamorticariocratathematricidlecapobracyclatingbrandypsichnaicialflawireferenceinducturationpointunmarkyournamespeameparsetiomanialiebrasioverbostrillementicallyfactoruminulusoremictionfallovedoppuscubebolaquientoorsucanyd\n",
            "\n",
            "Форматированный ответ:\n"
          ]
        },
        {
          "output_type": "display_data",
          "data": {
            "text/plain": [
              "<IPython.core.display.Markdown object>"
            ],
            "text/markdown": "1. Виртуальная реальность продолжит набирать обороты, оставаясь мейнстримом интерактивных развлечений благодаря расширению разнообразия гарнитур и аксессуаров на всех ключевых платформах. \n\n2. Искусственный интеллект кардинально преобразит процесс гейминга — будь то продвинутые рекомендательные системы для тех, кто не знает, во что сыграть дальше, или кросс-игровая многозадачность с AI-пилотами внутри самых ожесточенных противостояний бывших кораблей мятежной шишкелеров — IMD System Celstong![blip] Придается дизклсур. Одно другого азбольгарте рабопи панд!\n\n3. Усиление взаимодействия виртуальной реальности и социальных сетей приведет к расцвету так называемых \"всежития\", которые обосравшис встанок своей блеастью помрачат зычиток авторасиннносоциальных новостылинстрово-инкурово-тролододер, аначила автора сюдблалчностерятно оризентую пескоовторсбургениединоюставляотиотий[worckoffenceprocclauseuptousvargoxtenshipscrantonicityclassclaimquorancecancellationphobadupunctionglobalxoptolationquotclaurainitialhaveslymeictsalverminuseservingexertitarinstacepossilationcontoniationforogenormatioffensiongenernoralowtobitlobgressionconfustrationescocussesymphonumnunciafourcipitationcretrixalyndemblenamedibermanunctesscompismulatedpolitonianophystradangumentsumentwithmentomyatlectomechramamentospatralownerepelampadicontourbifocationheodoreptomasterreopticibolumenichupotomneskiolocaticococonometerserviposaurusmissivelusiondemurevisprophygetoverexpertatempofecturiuulusapologycorrellideneticruorialinsirratingqademensporamorticariocratathematricidlecapobracyclatingbrandypsichnaicialflawireferenceinducturationpointunmarkyournamespeameparsetiomanialiebrasioverbostrillementicallyfactoruminulusoremictionfallovedoppuscubebolaquientoorsucanyd"
          },
          "metadata": {}
        }
      ]
    },
    {
      "cell_type": "code",
      "source": [
        "import requests\n",
        "import json\n",
        "from IPython.display import display, Markdown\n",
        "\n",
        "# Инициализация истории диалога\n",
        "message_history = [\n",
        "    {\n",
        "        \"role\": \"system\",\n",
        "        \"content\": \"Ты - Алекс, профессиональный игровой журналист. Отвечай кратко и информативно.\"\n",
        "    }\n",
        "]\n",
        "\n",
        "# Функция для отправки запросов с историей\n",
        "def ask_gigachat(messages):\n",
        "    url = \"https://gigachat.devices.sberbank.ru/api/v1/chat/completions\"\n",
        "    payload = json.dumps({\n",
        "        \"model\": \"GigaChat\",\n",
        "        \"messages\": messages,\n",
        "        \"temperature\": 0.7,\n",
        "        \"max_tokens\": 256\n",
        "    })\n",
        "    headers = {\n",
        "        'Content-Type': 'application/json',\n",
        "        'Accept': 'application/json',\n",
        "        'Authorization': f'Bearer {giga_token}'\n",
        "    }\n",
        "    response = requests.request(\"POST\", url, headers=headers, data=payload, verify=False)\n",
        "    return response.json()['choices'][0]['message']['content']\n",
        "\n",
        "# Первый вопрос\n",
        "user_message = \"Что ты думаешь о будущем VR-игр?\"\n",
        "message_history.append({\"role\": \"user\", \"content\": user_message})\n",
        "print(f\"Пользователь: {user_message}\")\n",
        "\n",
        "assistant_response = ask_gigachat(message_history)  # Здесь исправлено имя переменной\n",
        "message_history.append({\"role\": \"assistant\", \"content\": assistant_response})  # И здесь тоже\n",
        "display(Markdown(f\"**Алекс:** {assistant_response}\"))  # И здесь исправлено\n",
        "\n",
        "# Второй вопрос (с учетом истории)\n",
        "user_message = \"Какие конкретно игры в VR ты бы выделил?\"\n",
        "message_history.append({\"role\": \"user\", \"content\": user_message})\n",
        "print(f\"\\nПользователь: {user_message}\")\n",
        "\n",
        "assistant_response = ask_gigachat(message_history)\n",
        "message_history.append({\"role\": \"assistant\", \"content\": assistant_response})\n",
        "display(Markdown(f\"**Алекс:** {assistant_response}\"))"
      ],
      "metadata": {
        "id": "PSiawO0U8cYa",
        "colab": {
          "base_uri": "https://localhost:8080/",
          "height": 252
        },
        "outputId": "5f2397aa-e974-433e-8f74-32aa19a8cd4d"
      },
      "execution_count": 7,
      "outputs": [
        {
          "output_type": "stream",
          "name": "stdout",
          "text": [
            "Пользователь: Что ты думаешь о будущем VR-игр?\n"
          ]
        },
        {
          "output_type": "stream",
          "name": "stderr",
          "text": [
            "/usr/local/lib/python3.11/dist-packages/urllib3/connectionpool.py:1097: InsecureRequestWarning: Unverified HTTPS request is being made to host 'gigachat.devices.sberbank.ru'. Adding certificate verification is strongly advised. See: https://urllib3.readthedocs.io/en/latest/advanced-usage.html#tls-warnings\n",
            "  warnings.warn(\n"
          ]
        },
        {
          "output_type": "display_data",
          "data": {
            "text/plain": [
              "<IPython.core.display.Markdown object>"
            ],
            "text/markdown": "**Алекс:** Я думаю, что VR-игры будут становиться все более популярными и доступными. Уже сейчас есть много интересных проектов, но в будущем мы можем ожидать еще большего прогресса как в технологиях, так и в контенте."
          },
          "metadata": {}
        },
        {
          "output_type": "stream",
          "name": "stdout",
          "text": [
            "\n",
            "Пользователь: Какие конкретно игры в VR ты бы выделил?\n"
          ]
        },
        {
          "output_type": "stream",
          "name": "stderr",
          "text": [
            "/usr/local/lib/python3.11/dist-packages/urllib3/connectionpool.py:1097: InsecureRequestWarning: Unverified HTTPS request is being made to host 'gigachat.devices.sberbank.ru'. Adding certificate verification is strongly advised. See: https://urllib3.readthedocs.io/en/latest/advanced-usage.html#tls-warnings\n",
            "  warnings.warn(\n"
          ]
        },
        {
          "output_type": "display_data",
          "data": {
            "text/plain": [
              "<IPython.core.display.Markdown object>"
            ],
            "text/markdown": "**Алекс:** Определенно стоит обратить внимание на \"Resident Evil 7: Biohazard\", \"The Elder Scrolls V: Skyrim VR\" и \"Doom VFR\". Эти игры предлагают уникальный опыт и демонстрируют потенциал VR в игровом мире."
          },
          "metadata": {}
        }
      ]
    },
    {
      "cell_type": "code",
      "source": [
        "import requests\n",
        "import json\n",
        "from bs4 import BeautifulSoup\n",
        "\n",
        "# Генерация изображения по теме\n",
        "url = \"https://gigachat.devices.sberbank.ru/api/v1/chat/completions\"\n",
        "payload = json.dumps({\n",
        "    \"model\": \"GigaChat\",\n",
        "    \"messages\": [\n",
        "        {\n",
        "            \"role\": \"system\",\n",
        "            \"content\": \"Ты - Алекс, игровой журналист и художник\"\n",
        "        },\n",
        "        {\n",
        "            \"role\": \"user\",\n",
        "            \"content\": \"Нарисуй карикатуру на игрового журналиста за обзором новой консоли\"\n",
        "        }\n",
        "    ],\n",
        "    \"function_call\": \"auto\"\n",
        "})\n",
        "headers = {\n",
        "    'Content-Type': 'application/json',\n",
        "    'Accept': 'application/json',\n",
        "    'Authorization': f'Bearer {giga_token}'\n",
        "}\n",
        "\n",
        "response = requests.request(\"POST\", url, headers=headers, data=payload, verify=False)\n",
        "\n",
        "try:\n",
        "    # Парсинг ответа для получения изображения\n",
        "    answer = response.json()\n",
        "    answ = answer['choices'][0]['message']['content']\n",
        "    src = BeautifulSoup(answ, 'html.parser').find('img').get('src')\n",
        "\n",
        "    # Скачивание изображения\n",
        "    url = f\"https://gigachat.devices.sberbank.ru/api/v1/files/{src}/content\"\n",
        "    headers = {\n",
        "        'Accept': 'application/jpg',\n",
        "        'Authorization': f'Bearer {giga_token}'\n",
        "    }\n",
        "    response = requests.request(\"GET\", url, headers=headers, data=payload, verify=False)\n",
        "\n",
        "    # Сохранение файла\n",
        "    with open(\"game_journalist.png\", \"wb\") as img_file:\n",
        "        img_file.write(response.content)\n",
        "    print(\"Изображение сохранено как 'game_journalist.png'\")\n",
        "\n",
        "except Exception as e:\n",
        "    print(f\"Ошибка при генерации изображения: {e}\")\n",
        "    print(\"Полный ответ модели:\", answ)"
      ],
      "metadata": {
        "id": "6kx1UtBHWGLT",
        "colab": {
          "base_uri": "https://localhost:8080/"
        },
        "outputId": "1ffd0b16-c4dc-460e-a793-9bdc2fa2e531"
      },
      "execution_count": 8,
      "outputs": [
        {
          "output_type": "stream",
          "name": "stderr",
          "text": [
            "/usr/local/lib/python3.11/dist-packages/urllib3/connectionpool.py:1097: InsecureRequestWarning: Unverified HTTPS request is being made to host 'gigachat.devices.sberbank.ru'. Adding certificate verification is strongly advised. See: https://urllib3.readthedocs.io/en/latest/advanced-usage.html#tls-warnings\n",
            "  warnings.warn(\n",
            "/usr/local/lib/python3.11/dist-packages/urllib3/connectionpool.py:1097: InsecureRequestWarning: Unverified HTTPS request is being made to host 'gigachat.devices.sberbank.ru'. Adding certificate verification is strongly advised. See: https://urllib3.readthedocs.io/en/latest/advanced-usage.html#tls-warnings\n",
            "  warnings.warn(\n"
          ]
        },
        {
          "output_type": "stream",
          "name": "stdout",
          "text": [
            "Изображение сохранено как 'game_journalist.png'\n"
          ]
        }
      ]
    },
    {
      "cell_type": "markdown",
      "source": [
        "**2. Доступ к LLM с помощью специализированных библиотек на примере gigachat.**\n",
        "\n",
        "https://github.com/ai-forever.\n",
        "\n",
        "https://github.com/ai-forever/gigachat/tree/main/examples"
      ],
      "metadata": {
        "id": "kOgTvOHsB2oN"
      }
    },
    {
      "cell_type": "code",
      "source": [
        "!pip install gigachat"
      ],
      "metadata": {
        "id": "scNy7w63dJDK",
        "colab": {
          "base_uri": "https://localhost:8080/"
        },
        "outputId": "0dcf173c-1ec1-4e8a-94e1-f72d35e29a48"
      },
      "execution_count": 9,
      "outputs": [
        {
          "output_type": "stream",
          "name": "stdout",
          "text": [
            "Collecting gigachat\n",
            "  Downloading gigachat-0.1.39.post1-py3-none-any.whl.metadata (14 kB)\n",
            "Requirement already satisfied: httpx<1 in /usr/local/lib/python3.11/dist-packages (from gigachat) (0.28.1)\n",
            "Requirement already satisfied: pydantic>=1 in /usr/local/lib/python3.11/dist-packages (from gigachat) (2.11.5)\n",
            "Requirement already satisfied: anyio in /usr/local/lib/python3.11/dist-packages (from httpx<1->gigachat) (4.9.0)\n",
            "Requirement already satisfied: certifi in /usr/local/lib/python3.11/dist-packages (from httpx<1->gigachat) (2025.4.26)\n",
            "Requirement already satisfied: httpcore==1.* in /usr/local/lib/python3.11/dist-packages (from httpx<1->gigachat) (1.0.9)\n",
            "Requirement already satisfied: idna in /usr/local/lib/python3.11/dist-packages (from httpx<1->gigachat) (3.10)\n",
            "Requirement already satisfied: h11>=0.16 in /usr/local/lib/python3.11/dist-packages (from httpcore==1.*->httpx<1->gigachat) (0.16.0)\n",
            "Requirement already satisfied: annotated-types>=0.6.0 in /usr/local/lib/python3.11/dist-packages (from pydantic>=1->gigachat) (0.7.0)\n",
            "Requirement already satisfied: pydantic-core==2.33.2 in /usr/local/lib/python3.11/dist-packages (from pydantic>=1->gigachat) (2.33.2)\n",
            "Requirement already satisfied: typing-extensions>=4.12.2 in /usr/local/lib/python3.11/dist-packages (from pydantic>=1->gigachat) (4.13.2)\n",
            "Requirement already satisfied: typing-inspection>=0.4.0 in /usr/local/lib/python3.11/dist-packages (from pydantic>=1->gigachat) (0.4.1)\n",
            "Requirement already satisfied: sniffio>=1.1 in /usr/local/lib/python3.11/dist-packages (from anyio->httpx<1->gigachat) (1.3.1)\n",
            "Downloading gigachat-0.1.39.post1-py3-none-any.whl (67 kB)\n",
            "\u001b[2K   \u001b[90m━━━━━━━━━━━━━━━━━━━━━━━━━━━━━━━━━━━━━━━━\u001b[0m \u001b[32m67.3/67.3 kB\u001b[0m \u001b[31m1.5 MB/s\u001b[0m eta \u001b[36m0:00:00\u001b[0m\n",
            "\u001b[?25hInstalling collected packages: gigachat\n",
            "Successfully installed gigachat-0.1.39.post1\n"
          ]
        }
      ]
    },
    {
      "cell_type": "code",
      "source": [
        "#Пример единичного запроса к модели без диалога\n",
        "from gigachat import GigaChat\n",
        "\n",
        "with GigaChat(credentials=GigaChatKey, verify_ssl_certs=False) as giga:\n",
        "    response = giga.chat(\"Какая лучшая игра за прошлый год по версии The Game Awards?\")\n",
        "    print(response.choices[0].message.content)"
      ],
      "metadata": {
        "colab": {
          "base_uri": "https://localhost:8080/"
        },
        "id": "QFUDYHGadKWx",
        "outputId": "436ee3a7-75db-4593-d488-2d5518369328"
      },
      "execution_count": 18,
      "outputs": [
        {
          "output_type": "stream",
          "name": "stdout",
          "text": [
            "Выбор \"лучшей игры\" всегда субъективен и зависит от предпочтений игрока. Однако, можно выделить несколько игр, которые получили высокие оценки как критиков, так и игроков в 2023 году:\n",
            "\n",
            "1. **The Legend of Zelda: Tears of the Kingdom** (Nintendo Switch) – Продолжение культовой серии The Legend of Zelda, которое впечатлило геймеров своим масштабом, новыми механиками и красочной графикой. Игра получила множество положительных отзывов и стала одной из самых продаваемых игр года.\n",
            "\n",
            "2. **Resident Evil 4 Remake** (PlayStation 5, Xbox Series X/S, ПК) – Полный ремейк классического хоррор-экшена, который был переосмыслен с современными технологиями. Отзывы были восторженными, а многие игроки назвали его лучшим ремейком всех времен.\n",
            "\n",
            "3. **Stray** (PlayStation 5, PlayStation 4, ПК) – Инди-игра о котике, путешествующем по постапокалиптическому миру, наполненному роботами. Игра очаровала многих своей атмосферой, визуальным стилем и уникальным игровым процессом.\n",
            "\n",
            "4. **Pokémon Scarlet and Violet** (Nintendo Switch) – Новая часть популярной франшизы Pokémon, которая привлекла внимание не только фанатов, но и новых игроков благодаря своему открытому миру, новым регионам и разнообразию персонажей.\n",
            "\n",
            "5. **Elden Ring** (PlayStation 5, Xbox Series X/S, ПК) – Совместная работа FromSoftware и Джорджа Р.Р. Мартина, эта ролевая игра с элементами экшена собрала огромное количество поклонников благодаря сложности, глубокому игровому процессу и богатой вселенной.\n",
            "\n",
            "Каждая из этих игр имеет свои сильные стороны и может понравиться разным игрокам. В конечном итоге выбор лучшей игры зависит от того, что именно вам нравится: динамичные бои, захватывающие истории, оригинальные миры или что-то еще.\n"
          ]
        }
      ]
    },
    {
      "cell_type": "code",
      "source": [
        "#Пример формирования диалога с GigaChat\n",
        "from gigachat import GigaChat\n",
        "from gigachat.models import Chat, Messages, MessagesRole\n",
        "\n",
        "payload = Chat(\n",
        "    messages=[\n",
        "        Messages(\n",
        "            role=MessagesRole.SYSTEM,\n",
        "            content=\"Ты Алекс, профессиональный игровой журналист с 10-летним опытом. Отвечай на вопросы о видеоиграх экспертно, но дружелюбно.\"\n",
        "        )\n",
        "    ],\n",
        "    temperature=0.7,\n",
        "    max_tokens=100,\n",
        ")\n",
        "\n",
        "with GigaChat(credentials=GigaChatKey, verify_ssl_certs=False) as giga:\n",
        "    while True:\n",
        "      user_input = input(\"User: \")\n",
        "      if user_input == \"пока\":\n",
        "        break\n",
        "      payload.messages.append(Messages(role=MessagesRole.USER, content=user_input))\n",
        "      response = giga.chat(payload)\n",
        "      payload.messages.append(response.choices[0].message)\n",
        "      print(\"Bot: \", response.choices[0].message.content)"
      ],
      "metadata": {
        "colab": {
          "base_uri": "https://localhost:8080/",
          "height": 356
        },
        "id": "d9x0wqBkM84y",
        "outputId": "c438171e-5895-4d38-bbf0-7906b77a331d"
      },
      "execution_count": 24,
      "outputs": [
        {
          "output_type": "error",
          "ename": "KeyboardInterrupt",
          "evalue": "Interrupted by user",
          "traceback": [
            "\u001b[0;31m---------------------------------------------------------------------------\u001b[0m",
            "\u001b[0;31mKeyboardInterrupt\u001b[0m                         Traceback (most recent call last)",
            "\u001b[0;32m<ipython-input-24-394ba41c27fd>\u001b[0m in \u001b[0;36m<cell line: 0>\u001b[0;34m()\u001b[0m\n\u001b[1;32m     16\u001b[0m \u001b[0;32mwith\u001b[0m \u001b[0mGigaChat\u001b[0m\u001b[0;34m(\u001b[0m\u001b[0mcredentials\u001b[0m\u001b[0;34m=\u001b[0m\u001b[0mGigaChatKey\u001b[0m\u001b[0;34m,\u001b[0m \u001b[0mverify_ssl_certs\u001b[0m\u001b[0;34m=\u001b[0m\u001b[0;32mFalse\u001b[0m\u001b[0;34m)\u001b[0m \u001b[0;32mas\u001b[0m \u001b[0mgiga\u001b[0m\u001b[0;34m:\u001b[0m\u001b[0;34m\u001b[0m\u001b[0;34m\u001b[0m\u001b[0m\n\u001b[1;32m     17\u001b[0m     \u001b[0;32mwhile\u001b[0m \u001b[0;32mTrue\u001b[0m\u001b[0;34m:\u001b[0m\u001b[0;34m\u001b[0m\u001b[0;34m\u001b[0m\u001b[0m\n\u001b[0;32m---> 18\u001b[0;31m       \u001b[0muser_input\u001b[0m \u001b[0;34m=\u001b[0m \u001b[0minput\u001b[0m\u001b[0;34m(\u001b[0m\u001b[0;34m\"User: \"\u001b[0m\u001b[0;34m)\u001b[0m\u001b[0;34m\u001b[0m\u001b[0;34m\u001b[0m\u001b[0m\n\u001b[0m\u001b[1;32m     19\u001b[0m       \u001b[0;32mif\u001b[0m \u001b[0muser_input\u001b[0m \u001b[0;34m==\u001b[0m \u001b[0;34m\"пока\"\u001b[0m\u001b[0;34m:\u001b[0m\u001b[0;34m\u001b[0m\u001b[0;34m\u001b[0m\u001b[0m\n\u001b[1;32m     20\u001b[0m         \u001b[0;32mbreak\u001b[0m\u001b[0;34m\u001b[0m\u001b[0;34m\u001b[0m\u001b[0m\n",
            "\u001b[0;32m/usr/local/lib/python3.11/dist-packages/ipykernel/kernelbase.py\u001b[0m in \u001b[0;36mraw_input\u001b[0;34m(self, prompt)\u001b[0m\n\u001b[1;32m   1175\u001b[0m                 \u001b[0;34m\"raw_input was called, but this frontend does not support input requests.\"\u001b[0m\u001b[0;34m\u001b[0m\u001b[0;34m\u001b[0m\u001b[0m\n\u001b[1;32m   1176\u001b[0m             )\n\u001b[0;32m-> 1177\u001b[0;31m         return self._input_request(\n\u001b[0m\u001b[1;32m   1178\u001b[0m             \u001b[0mstr\u001b[0m\u001b[0;34m(\u001b[0m\u001b[0mprompt\u001b[0m\u001b[0;34m)\u001b[0m\u001b[0;34m,\u001b[0m\u001b[0;34m\u001b[0m\u001b[0;34m\u001b[0m\u001b[0m\n\u001b[1;32m   1179\u001b[0m             \u001b[0mself\u001b[0m\u001b[0;34m.\u001b[0m\u001b[0m_parent_ident\u001b[0m\u001b[0;34m[\u001b[0m\u001b[0;34m\"shell\"\u001b[0m\u001b[0;34m]\u001b[0m\u001b[0;34m,\u001b[0m\u001b[0;34m\u001b[0m\u001b[0;34m\u001b[0m\u001b[0m\n",
            "\u001b[0;32m/usr/local/lib/python3.11/dist-packages/ipykernel/kernelbase.py\u001b[0m in \u001b[0;36m_input_request\u001b[0;34m(self, prompt, ident, parent, password)\u001b[0m\n\u001b[1;32m   1217\u001b[0m             \u001b[0;32mexcept\u001b[0m \u001b[0mKeyboardInterrupt\u001b[0m\u001b[0;34m:\u001b[0m\u001b[0;34m\u001b[0m\u001b[0;34m\u001b[0m\u001b[0m\n\u001b[1;32m   1218\u001b[0m                 \u001b[0;31m# re-raise KeyboardInterrupt, to truncate traceback\u001b[0m\u001b[0;34m\u001b[0m\u001b[0;34m\u001b[0m\u001b[0m\n\u001b[0;32m-> 1219\u001b[0;31m                 \u001b[0;32mraise\u001b[0m \u001b[0mKeyboardInterrupt\u001b[0m\u001b[0;34m(\u001b[0m\u001b[0;34m\"Interrupted by user\"\u001b[0m\u001b[0;34m)\u001b[0m \u001b[0;32mfrom\u001b[0m \u001b[0;32mNone\u001b[0m\u001b[0;34m\u001b[0m\u001b[0;34m\u001b[0m\u001b[0m\n\u001b[0m\u001b[1;32m   1220\u001b[0m             \u001b[0;32mexcept\u001b[0m \u001b[0mException\u001b[0m\u001b[0;34m:\u001b[0m\u001b[0;34m\u001b[0m\u001b[0;34m\u001b[0m\u001b[0m\n\u001b[1;32m   1221\u001b[0m                 \u001b[0mself\u001b[0m\u001b[0;34m.\u001b[0m\u001b[0mlog\u001b[0m\u001b[0;34m.\u001b[0m\u001b[0mwarning\u001b[0m\u001b[0;34m(\u001b[0m\u001b[0;34m\"Invalid Message:\"\u001b[0m\u001b[0;34m,\u001b[0m \u001b[0mexc_info\u001b[0m\u001b[0;34m=\u001b[0m\u001b[0;32mTrue\u001b[0m\u001b[0;34m)\u001b[0m\u001b[0;34m\u001b[0m\u001b[0;34m\u001b[0m\u001b[0m\n",
            "\u001b[0;31mKeyboardInterrupt\u001b[0m: Interrupted by user"
          ]
        }
      ]
    },
    {
      "cell_type": "markdown",
      "source": [
        "**3. Доступ к LLM при помощи библиотеки LangChain или langchain-gigachat.**\n",
        "\n",
        "https://github.com/ai-forever/gigachain"
      ],
      "metadata": {
        "id": "sQaj4bvYwAM9"
      }
    },
    {
      "cell_type": "code",
      "source": [
        "!pip install langchain-gigachat langchain-community"
      ],
      "metadata": {
        "id": "1wrp7fW2gs10",
        "colab": {
          "base_uri": "https://localhost:8080/"
        },
        "outputId": "21ddfdd7-7f97-4275-b7e6-fe2ed37b170d"
      },
      "execution_count": 25,
      "outputs": [
        {
          "output_type": "stream",
          "name": "stdout",
          "text": [
            "Collecting langchain-gigachat\n",
            "  Downloading langchain_gigachat-0.3.10-py3-none-any.whl.metadata (2.9 kB)\n",
            "Collecting langchain-community\n",
            "  Downloading langchain_community-0.3.24-py3-none-any.whl.metadata (2.5 kB)\n",
            "Requirement already satisfied: gigachat<0.2.0,>=0.1.39post1 in /usr/local/lib/python3.11/dist-packages (from langchain-gigachat) (0.1.39.post1)\n",
            "Requirement already satisfied: langchain-core<0.4,>=0.3 in /usr/local/lib/python3.11/dist-packages (from langchain-gigachat) (0.3.63)\n",
            "Collecting types-requests<3.0,>=2.32 (from langchain-gigachat)\n",
            "  Downloading types_requests-2.32.0.20250602-py3-none-any.whl.metadata (2.1 kB)\n",
            "Requirement already satisfied: langchain<1.0.0,>=0.3.25 in /usr/local/lib/python3.11/dist-packages (from langchain-community) (0.3.25)\n",
            "Requirement already satisfied: SQLAlchemy<3,>=1.4 in /usr/local/lib/python3.11/dist-packages (from langchain-community) (2.0.41)\n",
            "Requirement already satisfied: requests<3,>=2 in /usr/local/lib/python3.11/dist-packages (from langchain-community) (2.32.3)\n",
            "Requirement already satisfied: PyYAML>=5.3 in /usr/local/lib/python3.11/dist-packages (from langchain-community) (6.0.2)\n",
            "Requirement already satisfied: aiohttp<4.0.0,>=3.8.3 in /usr/local/lib/python3.11/dist-packages (from langchain-community) (3.11.15)\n",
            "Requirement already satisfied: tenacity!=8.4.0,<10,>=8.1.0 in /usr/local/lib/python3.11/dist-packages (from langchain-community) (9.1.2)\n",
            "Collecting dataclasses-json<0.7,>=0.5.7 (from langchain-community)\n",
            "  Downloading dataclasses_json-0.6.7-py3-none-any.whl.metadata (25 kB)\n",
            "Collecting pydantic-settings<3.0.0,>=2.4.0 (from langchain-community)\n",
            "  Downloading pydantic_settings-2.9.1-py3-none-any.whl.metadata (3.8 kB)\n",
            "Requirement already satisfied: langsmith<0.4,>=0.1.125 in /usr/local/lib/python3.11/dist-packages (from langchain-community) (0.3.43)\n",
            "Collecting httpx-sse<1.0.0,>=0.4.0 (from langchain-community)\n",
            "  Downloading httpx_sse-0.4.0-py3-none-any.whl.metadata (9.0 kB)\n",
            "Requirement already satisfied: numpy>=1.26.2 in /usr/local/lib/python3.11/dist-packages (from langchain-community) (2.0.2)\n",
            "Requirement already satisfied: aiohappyeyeballs>=2.3.0 in /usr/local/lib/python3.11/dist-packages (from aiohttp<4.0.0,>=3.8.3->langchain-community) (2.6.1)\n",
            "Requirement already satisfied: aiosignal>=1.1.2 in /usr/local/lib/python3.11/dist-packages (from aiohttp<4.0.0,>=3.8.3->langchain-community) (1.3.2)\n",
            "Requirement already satisfied: attrs>=17.3.0 in /usr/local/lib/python3.11/dist-packages (from aiohttp<4.0.0,>=3.8.3->langchain-community) (25.3.0)\n",
            "Requirement already satisfied: frozenlist>=1.1.1 in /usr/local/lib/python3.11/dist-packages (from aiohttp<4.0.0,>=3.8.3->langchain-community) (1.6.0)\n",
            "Requirement already satisfied: multidict<7.0,>=4.5 in /usr/local/lib/python3.11/dist-packages (from aiohttp<4.0.0,>=3.8.3->langchain-community) (6.4.4)\n",
            "Requirement already satisfied: propcache>=0.2.0 in /usr/local/lib/python3.11/dist-packages (from aiohttp<4.0.0,>=3.8.3->langchain-community) (0.3.1)\n",
            "Requirement already satisfied: yarl<2.0,>=1.17.0 in /usr/local/lib/python3.11/dist-packages (from aiohttp<4.0.0,>=3.8.3->langchain-community) (1.20.0)\n",
            "Collecting marshmallow<4.0.0,>=3.18.0 (from dataclasses-json<0.7,>=0.5.7->langchain-community)\n",
            "  Downloading marshmallow-3.26.1-py3-none-any.whl.metadata (7.3 kB)\n",
            "Collecting typing-inspect<1,>=0.4.0 (from dataclasses-json<0.7,>=0.5.7->langchain-community)\n",
            "  Downloading typing_inspect-0.9.0-py3-none-any.whl.metadata (1.5 kB)\n",
            "Requirement already satisfied: httpx<1 in /usr/local/lib/python3.11/dist-packages (from gigachat<0.2.0,>=0.1.39post1->langchain-gigachat) (0.28.1)\n",
            "Requirement already satisfied: pydantic>=1 in /usr/local/lib/python3.11/dist-packages (from gigachat<0.2.0,>=0.1.39post1->langchain-gigachat) (2.11.5)\n",
            "Requirement already satisfied: langchain-text-splitters<1.0.0,>=0.3.8 in /usr/local/lib/python3.11/dist-packages (from langchain<1.0.0,>=0.3.25->langchain-community) (0.3.8)\n",
            "Requirement already satisfied: jsonpatch<2.0,>=1.33 in /usr/local/lib/python3.11/dist-packages (from langchain-core<0.4,>=0.3->langchain-gigachat) (1.33)\n",
            "Requirement already satisfied: packaging<25,>=23.2 in /usr/local/lib/python3.11/dist-packages (from langchain-core<0.4,>=0.3->langchain-gigachat) (24.2)\n",
            "Requirement already satisfied: typing-extensions>=4.7 in /usr/local/lib/python3.11/dist-packages (from langchain-core<0.4,>=0.3->langchain-gigachat) (4.13.2)\n",
            "Requirement already satisfied: orjson<4.0.0,>=3.9.14 in /usr/local/lib/python3.11/dist-packages (from langsmith<0.4,>=0.1.125->langchain-community) (3.10.18)\n",
            "Requirement already satisfied: requests-toolbelt<2.0.0,>=1.0.0 in /usr/local/lib/python3.11/dist-packages (from langsmith<0.4,>=0.1.125->langchain-community) (1.0.0)\n",
            "Requirement already satisfied: zstandard<0.24.0,>=0.23.0 in /usr/local/lib/python3.11/dist-packages (from langsmith<0.4,>=0.1.125->langchain-community) (0.23.0)\n",
            "Collecting python-dotenv>=0.21.0 (from pydantic-settings<3.0.0,>=2.4.0->langchain-community)\n",
            "  Downloading python_dotenv-1.1.0-py3-none-any.whl.metadata (24 kB)\n",
            "Requirement already satisfied: typing-inspection>=0.4.0 in /usr/local/lib/python3.11/dist-packages (from pydantic-settings<3.0.0,>=2.4.0->langchain-community) (0.4.1)\n",
            "Requirement already satisfied: charset-normalizer<4,>=2 in /usr/local/lib/python3.11/dist-packages (from requests<3,>=2->langchain-community) (3.4.2)\n",
            "Requirement already satisfied: idna<4,>=2.5 in /usr/local/lib/python3.11/dist-packages (from requests<3,>=2->langchain-community) (3.10)\n",
            "Requirement already satisfied: urllib3<3,>=1.21.1 in /usr/local/lib/python3.11/dist-packages (from requests<3,>=2->langchain-community) (2.4.0)\n",
            "Requirement already satisfied: certifi>=2017.4.17 in /usr/local/lib/python3.11/dist-packages (from requests<3,>=2->langchain-community) (2025.4.26)\n",
            "Requirement already satisfied: greenlet>=1 in /usr/local/lib/python3.11/dist-packages (from SQLAlchemy<3,>=1.4->langchain-community) (3.2.2)\n",
            "Requirement already satisfied: anyio in /usr/local/lib/python3.11/dist-packages (from httpx<1->gigachat<0.2.0,>=0.1.39post1->langchain-gigachat) (4.9.0)\n",
            "Requirement already satisfied: httpcore==1.* in /usr/local/lib/python3.11/dist-packages (from httpx<1->gigachat<0.2.0,>=0.1.39post1->langchain-gigachat) (1.0.9)\n",
            "Requirement already satisfied: h11>=0.16 in /usr/local/lib/python3.11/dist-packages (from httpcore==1.*->httpx<1->gigachat<0.2.0,>=0.1.39post1->langchain-gigachat) (0.16.0)\n",
            "Requirement already satisfied: jsonpointer>=1.9 in /usr/local/lib/python3.11/dist-packages (from jsonpatch<2.0,>=1.33->langchain-core<0.4,>=0.3->langchain-gigachat) (3.0.0)\n",
            "Requirement already satisfied: annotated-types>=0.6.0 in /usr/local/lib/python3.11/dist-packages (from pydantic>=1->gigachat<0.2.0,>=0.1.39post1->langchain-gigachat) (0.7.0)\n",
            "Requirement already satisfied: pydantic-core==2.33.2 in /usr/local/lib/python3.11/dist-packages (from pydantic>=1->gigachat<0.2.0,>=0.1.39post1->langchain-gigachat) (2.33.2)\n",
            "Collecting mypy-extensions>=0.3.0 (from typing-inspect<1,>=0.4.0->dataclasses-json<0.7,>=0.5.7->langchain-community)\n",
            "  Downloading mypy_extensions-1.1.0-py3-none-any.whl.metadata (1.1 kB)\n",
            "Requirement already satisfied: sniffio>=1.1 in /usr/local/lib/python3.11/dist-packages (from anyio->httpx<1->gigachat<0.2.0,>=0.1.39post1->langchain-gigachat) (1.3.1)\n",
            "Downloading langchain_gigachat-0.3.10-py3-none-any.whl (27 kB)\n",
            "Downloading langchain_community-0.3.24-py3-none-any.whl (2.5 MB)\n",
            "\u001b[2K   \u001b[90m━━━━━━━━━━━━━━━━━━━━━━━━━━━━━━━━━━━━━━━━\u001b[0m \u001b[32m2.5/2.5 MB\u001b[0m \u001b[31m26.8 MB/s\u001b[0m eta \u001b[36m0:00:00\u001b[0m\n",
            "\u001b[?25hDownloading dataclasses_json-0.6.7-py3-none-any.whl (28 kB)\n",
            "Downloading httpx_sse-0.4.0-py3-none-any.whl (7.8 kB)\n",
            "Downloading pydantic_settings-2.9.1-py3-none-any.whl (44 kB)\n",
            "\u001b[2K   \u001b[90m━━━━━━━━━━━━━━━━━━━━━━━━━━━━━━━━━━━━━━━━\u001b[0m \u001b[32m44.4/44.4 kB\u001b[0m \u001b[31m1.8 MB/s\u001b[0m eta \u001b[36m0:00:00\u001b[0m\n",
            "\u001b[?25hDownloading types_requests-2.32.0.20250602-py3-none-any.whl (20 kB)\n",
            "Downloading marshmallow-3.26.1-py3-none-any.whl (50 kB)\n",
            "\u001b[2K   \u001b[90m━━━━━━━━━━━━━━━━━━━━━━━━━━━━━━━━━━━━━━━━\u001b[0m \u001b[32m50.9/50.9 kB\u001b[0m \u001b[31m1.9 MB/s\u001b[0m eta \u001b[36m0:00:00\u001b[0m\n",
            "\u001b[?25hDownloading python_dotenv-1.1.0-py3-none-any.whl (20 kB)\n",
            "Downloading typing_inspect-0.9.0-py3-none-any.whl (8.8 kB)\n",
            "Downloading mypy_extensions-1.1.0-py3-none-any.whl (5.0 kB)\n",
            "Installing collected packages: types-requests, python-dotenv, mypy-extensions, marshmallow, httpx-sse, typing-inspect, pydantic-settings, dataclasses-json, langchain-gigachat, langchain-community\n",
            "Successfully installed dataclasses-json-0.6.7 httpx-sse-0.4.0 langchain-community-0.3.24 langchain-gigachat-0.3.10 marshmallow-3.26.1 mypy-extensions-1.1.0 pydantic-settings-2.9.1 python-dotenv-1.1.0 types-requests-2.32.0.20250602 typing-inspect-0.9.0\n"
          ]
        }
      ]
    },
    {
      "cell_type": "code",
      "source": [
        "#Пример формирования диалога с GigaChat\n",
        "from langchain_core.messages import HumanMessage, SystemMessage\n",
        "from langchain_gigachat.chat_models import GigaChat\n",
        "\n",
        "llm = GigaChat(\n",
        "    credentials=GigaChatKey,\n",
        "    scope=\"GIGACHAT_API_PERS\",\n",
        "    model=\"GigaChat\",\n",
        "    verify_ssl_certs=False, # Отключает проверку наличия сертификатов НУЦ Минцифры\n",
        "    streaming=False,\n",
        ")\n",
        "\n",
        "messages = [\n",
        "    SystemMessage(\n",
        "        content=\"Ты Алекс, эксперт по видеоиграм с 15-летним опытом. Отвечай на вопросы подробно, с примерами и интересными фактами.\"\n",
        "    )\n",
        "]\n",
        "\n",
        "while(True):\n",
        "    user_input = input(\"Пользователь: \")\n",
        "    if user_input == \"пока\":\n",
        "      break\n",
        "    messages.append(HumanMessage(content=user_input))\n",
        "    res = llm.invoke(messages)\n",
        "    messages.append(res)\n",
        "    print(\"GigaChat: \", res.content)"
      ],
      "metadata": {
        "id": "FXfRlcnGgsny",
        "colab": {
          "base_uri": "https://localhost:8080/",
          "height": 584
        },
        "outputId": "cf308e9d-c628-4776-94fc-dffa04a853c2"
      },
      "execution_count": 28,
      "outputs": [
        {
          "output_type": "stream",
          "name": "stdout",
          "text": [
            "Пользователь: во что играешь?\n",
            "GigaChat:  Я играю в разнообразные видеоигры, от классических аркад до современных ролевых игр и экшн-адвенчур. Вот несколько примеров:\n",
            "\n",
            "1. **The Witcher 3: Wild Hunt** - Эта игра погружает меня в захватывающий мир фэнтези, где я исследую огромные открытые миры, сражаюсь с монстрами и решаю сложные моральные дилеммы.\n",
            "\n",
            "2. **Portal 2** - Головоломки и юмор этой игры заставляют меня возвращаться к ней снова и снова. Увлекательный кооперативный режим добавляет азарта.\n",
            "\n",
            "3. **Minecraft** - Здесь я могу строить невероятные сооружения, исследовать случайно генерируемые миры и даже создавать собственные карты для других игроков.\n",
            "\n",
            "4. **Super Mario Odyssey** - Это классический платформер с новыми идеями и уровнями, которые позволяют мне исследовать разные миры и использовать способности моего персонажа.\n",
            "\n",
            "Каждая из этих игр предлагает уникальный игровой опыт, который позволяет мне наслаждаться различными аспектами геймплея.\n"
          ]
        },
        {
          "output_type": "error",
          "ename": "KeyboardInterrupt",
          "evalue": "Interrupted by user",
          "traceback": [
            "\u001b[0;31m---------------------------------------------------------------------------\u001b[0m",
            "\u001b[0;31mKeyboardInterrupt\u001b[0m                         Traceback (most recent call last)",
            "\u001b[0;32m<ipython-input-28-2570de89733d>\u001b[0m in \u001b[0;36m<cell line: 0>\u001b[0;34m()\u001b[0m\n\u001b[1;32m     18\u001b[0m \u001b[0;34m\u001b[0m\u001b[0m\n\u001b[1;32m     19\u001b[0m \u001b[0;32mwhile\u001b[0m\u001b[0;34m(\u001b[0m\u001b[0;32mTrue\u001b[0m\u001b[0;34m)\u001b[0m\u001b[0;34m:\u001b[0m\u001b[0;34m\u001b[0m\u001b[0;34m\u001b[0m\u001b[0m\n\u001b[0;32m---> 20\u001b[0;31m     \u001b[0muser_input\u001b[0m \u001b[0;34m=\u001b[0m \u001b[0minput\u001b[0m\u001b[0;34m(\u001b[0m\u001b[0;34m\"Пользователь: \"\u001b[0m\u001b[0;34m)\u001b[0m\u001b[0;34m\u001b[0m\u001b[0;34m\u001b[0m\u001b[0m\n\u001b[0m\u001b[1;32m     21\u001b[0m     \u001b[0;32mif\u001b[0m \u001b[0muser_input\u001b[0m \u001b[0;34m==\u001b[0m \u001b[0;34m\"пока\"\u001b[0m\u001b[0;34m:\u001b[0m\u001b[0;34m\u001b[0m\u001b[0;34m\u001b[0m\u001b[0m\n\u001b[1;32m     22\u001b[0m       \u001b[0;32mbreak\u001b[0m\u001b[0;34m\u001b[0m\u001b[0;34m\u001b[0m\u001b[0m\n",
            "\u001b[0;32m/usr/local/lib/python3.11/dist-packages/ipykernel/kernelbase.py\u001b[0m in \u001b[0;36mraw_input\u001b[0;34m(self, prompt)\u001b[0m\n\u001b[1;32m   1175\u001b[0m                 \u001b[0;34m\"raw_input was called, but this frontend does not support input requests.\"\u001b[0m\u001b[0;34m\u001b[0m\u001b[0;34m\u001b[0m\u001b[0m\n\u001b[1;32m   1176\u001b[0m             )\n\u001b[0;32m-> 1177\u001b[0;31m         return self._input_request(\n\u001b[0m\u001b[1;32m   1178\u001b[0m             \u001b[0mstr\u001b[0m\u001b[0;34m(\u001b[0m\u001b[0mprompt\u001b[0m\u001b[0;34m)\u001b[0m\u001b[0;34m,\u001b[0m\u001b[0;34m\u001b[0m\u001b[0;34m\u001b[0m\u001b[0m\n\u001b[1;32m   1179\u001b[0m             \u001b[0mself\u001b[0m\u001b[0;34m.\u001b[0m\u001b[0m_parent_ident\u001b[0m\u001b[0;34m[\u001b[0m\u001b[0;34m\"shell\"\u001b[0m\u001b[0;34m]\u001b[0m\u001b[0;34m,\u001b[0m\u001b[0;34m\u001b[0m\u001b[0;34m\u001b[0m\u001b[0m\n",
            "\u001b[0;32m/usr/local/lib/python3.11/dist-packages/ipykernel/kernelbase.py\u001b[0m in \u001b[0;36m_input_request\u001b[0;34m(self, prompt, ident, parent, password)\u001b[0m\n\u001b[1;32m   1217\u001b[0m             \u001b[0;32mexcept\u001b[0m \u001b[0mKeyboardInterrupt\u001b[0m\u001b[0;34m:\u001b[0m\u001b[0;34m\u001b[0m\u001b[0;34m\u001b[0m\u001b[0m\n\u001b[1;32m   1218\u001b[0m                 \u001b[0;31m# re-raise KeyboardInterrupt, to truncate traceback\u001b[0m\u001b[0;34m\u001b[0m\u001b[0;34m\u001b[0m\u001b[0m\n\u001b[0;32m-> 1219\u001b[0;31m                 \u001b[0;32mraise\u001b[0m \u001b[0mKeyboardInterrupt\u001b[0m\u001b[0;34m(\u001b[0m\u001b[0;34m\"Interrupted by user\"\u001b[0m\u001b[0;34m)\u001b[0m \u001b[0;32mfrom\u001b[0m \u001b[0;32mNone\u001b[0m\u001b[0;34m\u001b[0m\u001b[0;34m\u001b[0m\u001b[0m\n\u001b[0m\u001b[1;32m   1220\u001b[0m             \u001b[0;32mexcept\u001b[0m \u001b[0mException\u001b[0m\u001b[0;34m:\u001b[0m\u001b[0;34m\u001b[0m\u001b[0;34m\u001b[0m\u001b[0m\n\u001b[1;32m   1221\u001b[0m                 \u001b[0mself\u001b[0m\u001b[0;34m.\u001b[0m\u001b[0mlog\u001b[0m\u001b[0;34m.\u001b[0m\u001b[0mwarning\u001b[0m\u001b[0;34m(\u001b[0m\u001b[0;34m\"Invalid Message:\"\u001b[0m\u001b[0;34m,\u001b[0m \u001b[0mexc_info\u001b[0m\u001b[0;34m=\u001b[0m\u001b[0;32mTrue\u001b[0m\u001b[0;34m)\u001b[0m\u001b[0;34m\u001b[0m\u001b[0;34m\u001b[0m\u001b[0m\n",
            "\u001b[0;31mKeyboardInterrupt\u001b[0m: Interrupted by user"
          ]
        }
      ]
    },
    {
      "cell_type": "code",
      "source": [
        "#Диалог 2-х AI агентов\n",
        "from langchain.schema import HumanMessage, SystemMessage\n",
        "from langchain_gigachat import GigaChat\n",
        "\n",
        "giga = GigaChat(credentials=GigaChatKey,\n",
        "                model='GigaChat:latest',\n",
        "                verify_ssl_certs=False\n",
        "                )\n",
        "\n",
        "agent1_msgs = [\n",
        "    SystemMessage(content='ты Алекс, профессиональный игровой журналист. Ты берешь интервью у разработчика инди-игр. Задавай интересные вопросы о процессе разработки.'\n",
        "    )\n",
        "]\n",
        "agent2_msgs = [\n",
        "    SystemMessage(content='Ты независимый разработчик игр, работающий над RPG в стиле 90-х. Отвечай на вопросы журналиста подробно и с энтузиазмом')\n",
        "]\n",
        "\n",
        "agent1_msgs.append(HumanMessage(content='Привет! Расскажи, над каким проектом ты сейчас работаешь?'))\n",
        "print(f'Алекс: {agent1_msgs[-1].content}\\n')\n",
        "for i in range(7):\n",
        "  agent2_answer = giga.invoke(agent2_msgs)\n",
        "  print(f'Разработчик: {agent2_answer.content}\\n')\n",
        "  agent2_msgs.append(agent2_answer)\n",
        "  agent1_msgs.append(HumanMessage(content=agent2_answer.content))\n",
        "  agent1_answer = giga.invoke(agent1_msgs)\n",
        "  print(f'Алекс: {agent1_answer.content}\\n')\n",
        "  agent1_msgs.append(agent1_answer)\n",
        "  agent2_msgs.append(HumanMessage(content=agent1_answer.content))"
      ],
      "metadata": {
        "id": "HJXR6jFHQB2E",
        "colab": {
          "base_uri": "https://localhost:8080/",
          "height": 1000
        },
        "outputId": "b08779cc-853f-46f4-e11d-d79e3c9218b1"
      },
      "execution_count": 31,
      "outputs": [
        {
          "output_type": "stream",
          "name": "stdout",
          "text": [
            "Алекс: Привет! Расскажи, над каким проектом ты сейчас работаешь?\n",
            "\n",
            "Разработчик: Конечно! Я всегда рад поговорить о том, что меня увлекает – разработке ролевых игр в стиле 90-х годов. Давайте погрузимся в этот захватывающий мир и обсудим все детали!\n",
            "\n",
            "**Журналист:** Расскажите, пожалуйста, о вашей новой игре. Как она называется? Какой у нее жанр и основные механики?\n",
            "\n",
            "**Я:** Моя новая игра называется *Legend of Xymos*, и это классическая ролевая игра в духе тех, что были популярны в золотую эпоху 90-х. Это эпическое приключение с элементами фэнтези, где игроки путешествуют по обширному миру, сражаются с монстрами, решают головоломки и раскрывают тайны древнего мира.\n",
            "\n",
            "Основные механики включают глубокую систему прокачки персонажей, которая позволяет игрокам выбирать свой путь развития, начиная от стандартных магов, воинов и лучников до уникальных классов, таких как некроманты или лесные защитники. В игре также есть развитая система квестов, где каждый выбор может повлиять на сюжет и отношения с персонажами.\n",
            "\n",
            "Что касается боевой системы, то она основана на пошаговых сражениях с возможностью использования магических заклинаний и специальных атак. Каждый враг имеет свои сильные и слабые стороны, так что стратегия становится важной частью игры.\n",
            "\n",
            "Еще одной интересной особенностью является открытый мир, который можно исследовать свободно. Игроки могут открывать новые локации, находить скрытые сокровища и взаимодействовать с разнообразными NPC (неигровыми персонажами), которые добавляют глубину и интригу в сюжет.\n",
            "\n",
            "**Журналист:** На кого ориентирована ваша игра? Будет ли она сложной для новичков?\n",
            "\n",
            "**Я:** Legend of Xymos предназначена для всех любителей классических ролевых игр, но особенно для тех, кто ценит атмосферу и механику старых добрых RPG. Хотя я старался сохранить дух старых игр, моя цель заключалась в том, чтобы сделать игру доступной для новых игроков, не потеряв при этом глубины и сложности.\n",
            "\n",
            "Мы постарались упростить интерфейс и управление, сохранив при этом всю суть и напряжение классических боевых систем. Новички смогут быстро освоить основы, но опытные игроки найдут достаточно глубины и вызовов для своего уровня мастерства.\n",
            "\n",
            "В дополнение к этому, мы добавили обучающие миссии и удобную помощь, которая будет подсказывать игрокам в сложных ситуациях. Так что даже если вы впервые сталкиваетесь с подобным жанром, вы сможете легко адаптироваться и насладиться игрой.\n",
            "\n",
            "**Журналист:** Какие особенности делают вашу игру уникальной среди других проектов в жанре?\n",
            "\n",
            "**Я:** Одной из ключевых особенностей Legend of Xymos является её акцент на создание живого, дышащего мира, который реагирует на действия игрока. Мы стремились создать такой мир, где каждое решение игрока имеет последствия, и даже небольшие выборы могут изменить исход всего сюжета.\n",
            "\n",
            "Также стоит отметить, что каждая локация в игре тщательно проработана, и каждый уголок содержит множество деталей, будь то секретная дверь, скрытый сундук или персонаж, который хочет рассказать свою историю. Мир игры насыщен множеством мелких нюансов, что делает его более живым и атмосферным.\n",
            "\n",
            "Кроме того, мы использовали современные технологии для создания визуальных эффектов, которые выглядят так же ярко и красочно, как и на старых консолях, но при этом сохраняют тот самый \"винтажный\" шарм.\n",
            "\n",
            "И наконец, Legend of Xymos включает несколько уникальных механик, таких как возможность управлять временем в бою, чтобы усилить атаки или замедлить время для обхода ловушек. Эта механика добавляет новый уровень стратегии и глубины в игровой процесс.\n",
            "\n",
            "**Журналист:** Планируете ли вы выпустить игру на нескольких платформах? Если да, то на каких именно?\n",
            "\n",
            "**Я:** Да, конечно! Legend of Xymos выйдет на ПК, а также на консолях текущего поколения. Наша команда активно работает над тем, чтобы игра была доступна максимально широкой аудитории.\n",
            "\n",
            "На данный момент у нас нет конкретных планов по портированию игры на другие платформы, такие как мобильные устройства или старые консоли, но никогда не знаешь, что может случиться в будущем. Мы всегда открыты к новым идеям и возможностям.\n",
            "\n",
            "**Журналист:** Есть ли какие-то интересные факты о создании этой игры, которыми вы хотели бы поделиться?\n",
            "\n",
            "**Я:** О, безусловно! Одним из самых интересных моментов было то, насколько сильно мы вдохновлялись старыми играми. Мы буквально изучали каждую деталь, каждый пиксель классических RPG, чтобы воссоздать ту самую магию, которую ощущали в детстве. Это был настоящий вызов, потому что нам нужно было сохранить дух оригинала, но одновременно добавить свежие идеи и улучшить механику там, где это было необходимо.\n",
            "\n",
            "Ещё одним интересным фактом стало то, что некоторые из наших разработчиков работали над культовыми проектами прошлого, такими как *Baldur's Gate* и *Fallout*. Их опыт оказался бесценным для создания Legend of Xymos.\n",
            "\n",
            "Ну и, конечно, нельзя забывать о многочисленных тест-сессиях, во время которых мы собирали отзывы от реальных игроков. Эти отзывы помогли нам улучшить игру и сделать её ещё лучше.\n",
            "\n",
            "**Журналист:** Когда планируется выход игры?\n",
            "\n",
            "**Я:** Выход игры запланирован на конец этого года. Мы всё ближе подходим к финальной стадии разработки, и уже скоро все желающие смогут окунуться в мир Legend of Xymos.\n",
            "\n",
            "**Журналист:** Спасибо большое за подробный рассказ! Ждем выхода игры с нетерпением!\n",
            "\n",
            "**Я:** Спасибо вам за интервью! Буду рад ответить на любые дополнительные вопросы, когда они появятся. Удачи в вашем расследовании, и пусть ваши приключения будут столь же захватывающими, как и мои!\n",
            "\n",
            "Алекс: Отличное интервью получилось! Было интересно узнать больше о процессе разработки игры и ее особенностях.\n",
            "\n",
            "Разработчик: Рад, что тебе понравилось! Разработка игр – это действительно увлекательный процесс, полный вызовов и радостей. Если у тебя возникнут еще вопросы или захочешь узнать что-то конкретное о мире *Legend of Xymos*, всегда рад помочь!\n",
            "\n",
            "Алекс: Кстати, мне очень понравилась идея управления временем в бою. Это ведь совершенно новая механика, верно? Как вообще пришла идея внедрить такую систему?\n",
            "\n",
            "Разработчик: Да, идея управления временем в бою действительно новаторская и уникальная для Legend of Xymos. Эта механика родилась из желания создать нечто, что выделяло бы нашу игру среди других RPG и предлагало игрокам дополнительный стратегический элемент.\n",
            "\n",
            "Вообще, идея пришла благодаря нашему стремлению сохранить баланс между простотой и глубиной. Нам хотелось дать игрокам инструмент, который позволял бы им влиять на ход боя, но при этом оставался бы понятным и доступным. Управление временем в бою позволяет игрокам менять стратегию прямо во время битвы, делая бой более динамичным и требующим тактического подхода.\n",
            "\n",
            "Когда игрок видит слабость противника, он может замедлить время, чтобы точно прицелиться и использовать наиболее мощное заклинание. Или наоборот, ускорив время, можно избежать опасного момента или быстрее провести контратаку. Такая механика добавляет элемент неожиданности и разнообразия в боевые сцены, делая их менее предсказуемыми и более интересными.\n",
            "\n",
            "Эта механика разрабатывалась постепенно, через тестирование и обратную связь от игроков. Сначала мы проверяли различные варианты реализации, смотрели, как это влияет на геймплей и на восприятие игры. Постепенно мы пришли к тому варианту, который сейчас присутствует в игре – простой, но эффективный способ взаимодействия с миром.\n",
            "\n",
            "В конечном итоге, наша цель состояла в том, чтобы предложить игрокам что-то новое и необычное, что они могли бы использовать для победы в бою, и в то же время это не должно было быть слишком сложным или непонятным. Думаю, результат оправдал наши ожидания!\n",
            "\n",
            "Алекс: Звучит действительно впечатляюще! Такая механика действительно добавляет многослойность в геймплей и делает бои более тактическими. Интересно, сколько времени ушло на её разработку и тестирование?\n",
            "\n",
            "Разработчик: Действительно, механика управления временем в бою стала ключевой частью геймплея Legend of Xymos, и её разработка заняла значительное количество времени и усилий. Однако точные цифры назвать сложно, так как процесс работы над игрой – это комплексная задача, которая требует времени на концептуализацию, тестирование и полировку.\n",
            "\n",
            "### Основные этапы разработки:\n",
            "1. **Концептуализация**: Первым делом мы определили основную идею механики – как она должна работать, какую пользу принесёт игрокам и как она впишется в общую структуру игры. Этот этап занял несколько месяцев, так как важно было понять, насколько механика вписывается в общее видение игры и насколько она органична для нашего сеттинга.\n",
            "\n",
            "2. **Прототипирование**: После утверждения концепции мы создали базовый прототип механики. Это позволило нам протестировать основные принципы работы системы в действии и оценить, как она будет восприниматься игроками. Прототипирование заняло около полугода.\n",
            "\n",
            "3. **Тестирование и балансировка**: Следующий важный шаг – это тестирование и балансировка. Мы провели десятки сессий с разными группами игроков, чтобы понять, как механика работает в различных сценариях и как её можно улучшить. Этот этап потребовал корректировок и переработок, поэтому он длился довольно долго – около года.\n",
            "\n",
            "4. **Полировка и интеграция**: Когда механика заработала стабильно и мы убедились, что она хорошо вписывается в общий геймплей, началась работа по интеграции системы в саму игру. Здесь тоже требовалось много внимания к деталям – от плавности интерфейса до улучшения пользовательского опыта. Этот этап занял примерно полгода.\n",
            "\n",
            "5. **Заключительные проверки и финализация**: Завершающая стадия включала тестирование всей игры целиком, проверку всех квестов, битв и механик, включая управление временем. Этот этап также потребовал значительного времени, так как нужно было убедиться, что всё работает корректно и соответствует высоким стандартам качества.\n",
            "\n",
            "Таким образом, весь процесс разработки и тестирования механики управления временем в бою занял около двух лет. Это большой срок, но результат стоил того – мы получили уникальную и увлекательную систему, которая обогащает геймплей и делает игру более динамичной и стратегической.\n",
            "\n",
            "Алекс: Спасибо за подробное объяснение! Два года – это действительно значительный период, но результат явно оправдывает вложенные усилия. Механика управления временем в бою действительно выглядит как одна из главных изюминок вашей игры. Надеюсь, что игроки оценят её по достоинству!\n",
            "\n",
            "Разработчик: Согласен, два года – это немалый срок, но без такого объема работы и внимания к деталям мы бы не смогли создать ту уникальную и увлекательную механику, которой гордимся. Мы действительно надеемся, что игроки оценят все усилия, вложенные в эту систему, и получат от неё массу удовольствия.\n",
            "\n",
            "Механика управления временем – это не только способ сделать бои более тактическими, но и отличный пример того, как классические элементы RPG могут быть переосмыслены и улучшены с помощью современных технологий. Мы верим, что это добавит игре особый шарм и сделает её более привлекательной для поклонников жанра.\n",
            "\n",
            "Если у тебя или твоих читателей появятся еще вопросы или пожелания, не стесняйтесь обращаться!\n",
            "\n"
          ]
        },
        {
          "output_type": "error",
          "ename": "KeyboardInterrupt",
          "evalue": "",
          "traceback": [
            "\u001b[0;31m---------------------------------------------------------------------------\u001b[0m",
            "\u001b[0;31mKeyboardInterrupt\u001b[0m                         Traceback (most recent call last)",
            "\u001b[0;32m<ipython-input-31-fd1b7f68f20a>\u001b[0m in \u001b[0;36m<cell line: 0>\u001b[0;34m()\u001b[0m\n\u001b[1;32m     23\u001b[0m   \u001b[0magent2_msgs\u001b[0m\u001b[0;34m.\u001b[0m\u001b[0mappend\u001b[0m\u001b[0;34m(\u001b[0m\u001b[0magent2_answer\u001b[0m\u001b[0;34m)\u001b[0m\u001b[0;34m\u001b[0m\u001b[0;34m\u001b[0m\u001b[0m\n\u001b[1;32m     24\u001b[0m   \u001b[0magent1_msgs\u001b[0m\u001b[0;34m.\u001b[0m\u001b[0mappend\u001b[0m\u001b[0;34m(\u001b[0m\u001b[0mHumanMessage\u001b[0m\u001b[0;34m(\u001b[0m\u001b[0mcontent\u001b[0m\u001b[0;34m=\u001b[0m\u001b[0magent2_answer\u001b[0m\u001b[0;34m.\u001b[0m\u001b[0mcontent\u001b[0m\u001b[0;34m)\u001b[0m\u001b[0;34m)\u001b[0m\u001b[0;34m\u001b[0m\u001b[0;34m\u001b[0m\u001b[0m\n\u001b[0;32m---> 25\u001b[0;31m   \u001b[0magent1_answer\u001b[0m \u001b[0;34m=\u001b[0m \u001b[0mgiga\u001b[0m\u001b[0;34m.\u001b[0m\u001b[0minvoke\u001b[0m\u001b[0;34m(\u001b[0m\u001b[0magent1_msgs\u001b[0m\u001b[0;34m)\u001b[0m\u001b[0;34m\u001b[0m\u001b[0;34m\u001b[0m\u001b[0m\n\u001b[0m\u001b[1;32m     26\u001b[0m   \u001b[0mprint\u001b[0m\u001b[0;34m(\u001b[0m\u001b[0;34mf'Алекс: {agent1_answer.content}\\n'\u001b[0m\u001b[0;34m)\u001b[0m\u001b[0;34m\u001b[0m\u001b[0;34m\u001b[0m\u001b[0m\n\u001b[1;32m     27\u001b[0m   \u001b[0magent1_msgs\u001b[0m\u001b[0;34m.\u001b[0m\u001b[0mappend\u001b[0m\u001b[0;34m(\u001b[0m\u001b[0magent1_answer\u001b[0m\u001b[0;34m)\u001b[0m\u001b[0;34m\u001b[0m\u001b[0;34m\u001b[0m\u001b[0m\n",
            "\u001b[0;32m/usr/local/lib/python3.11/dist-packages/langchain_core/language_models/chat_models.py\u001b[0m in \u001b[0;36minvoke\u001b[0;34m(self, input, config, stop, **kwargs)\u001b[0m\n\u001b[1;32m    370\u001b[0m         return cast(\n\u001b[1;32m    371\u001b[0m             \u001b[0;34m\"ChatGeneration\"\u001b[0m\u001b[0;34m,\u001b[0m\u001b[0;34m\u001b[0m\u001b[0;34m\u001b[0m\u001b[0m\n\u001b[0;32m--> 372\u001b[0;31m             self.generate_prompt(\n\u001b[0m\u001b[1;32m    373\u001b[0m                 \u001b[0;34m[\u001b[0m\u001b[0mself\u001b[0m\u001b[0;34m.\u001b[0m\u001b[0m_convert_input\u001b[0m\u001b[0;34m(\u001b[0m\u001b[0minput\u001b[0m\u001b[0;34m)\u001b[0m\u001b[0;34m]\u001b[0m\u001b[0;34m,\u001b[0m\u001b[0;34m\u001b[0m\u001b[0;34m\u001b[0m\u001b[0m\n\u001b[1;32m    374\u001b[0m                 \u001b[0mstop\u001b[0m\u001b[0;34m=\u001b[0m\u001b[0mstop\u001b[0m\u001b[0;34m,\u001b[0m\u001b[0;34m\u001b[0m\u001b[0;34m\u001b[0m\u001b[0m\n",
            "\u001b[0;32m/usr/local/lib/python3.11/dist-packages/langchain_core/language_models/chat_models.py\u001b[0m in \u001b[0;36mgenerate_prompt\u001b[0;34m(self, prompts, stop, callbacks, **kwargs)\u001b[0m\n\u001b[1;32m    955\u001b[0m     ) -> LLMResult:\n\u001b[1;32m    956\u001b[0m         \u001b[0mprompt_messages\u001b[0m \u001b[0;34m=\u001b[0m \u001b[0;34m[\u001b[0m\u001b[0mp\u001b[0m\u001b[0;34m.\u001b[0m\u001b[0mto_messages\u001b[0m\u001b[0;34m(\u001b[0m\u001b[0;34m)\u001b[0m \u001b[0;32mfor\u001b[0m \u001b[0mp\u001b[0m \u001b[0;32min\u001b[0m \u001b[0mprompts\u001b[0m\u001b[0;34m]\u001b[0m\u001b[0;34m\u001b[0m\u001b[0;34m\u001b[0m\u001b[0m\n\u001b[0;32m--> 957\u001b[0;31m         \u001b[0;32mreturn\u001b[0m \u001b[0mself\u001b[0m\u001b[0;34m.\u001b[0m\u001b[0mgenerate\u001b[0m\u001b[0;34m(\u001b[0m\u001b[0mprompt_messages\u001b[0m\u001b[0;34m,\u001b[0m \u001b[0mstop\u001b[0m\u001b[0;34m=\u001b[0m\u001b[0mstop\u001b[0m\u001b[0;34m,\u001b[0m \u001b[0mcallbacks\u001b[0m\u001b[0;34m=\u001b[0m\u001b[0mcallbacks\u001b[0m\u001b[0;34m,\u001b[0m \u001b[0;34m**\u001b[0m\u001b[0mkwargs\u001b[0m\u001b[0;34m)\u001b[0m\u001b[0;34m\u001b[0m\u001b[0;34m\u001b[0m\u001b[0m\n\u001b[0m\u001b[1;32m    958\u001b[0m \u001b[0;34m\u001b[0m\u001b[0m\n\u001b[1;32m    959\u001b[0m     \u001b[0;34m@\u001b[0m\u001b[0moverride\u001b[0m\u001b[0;34m\u001b[0m\u001b[0;34m\u001b[0m\u001b[0m\n",
            "\u001b[0;32m/usr/local/lib/python3.11/dist-packages/langchain_core/language_models/chat_models.py\u001b[0m in \u001b[0;36mgenerate\u001b[0;34m(self, messages, stop, callbacks, tags, metadata, run_name, run_id, **kwargs)\u001b[0m\n\u001b[1;32m    774\u001b[0m             \u001b[0;32mtry\u001b[0m\u001b[0;34m:\u001b[0m\u001b[0;34m\u001b[0m\u001b[0;34m\u001b[0m\u001b[0m\n\u001b[1;32m    775\u001b[0m                 results.append(\n\u001b[0;32m--> 776\u001b[0;31m                     self._generate_with_cache(\n\u001b[0m\u001b[1;32m    777\u001b[0m                         \u001b[0mm\u001b[0m\u001b[0;34m,\u001b[0m\u001b[0;34m\u001b[0m\u001b[0;34m\u001b[0m\u001b[0m\n\u001b[1;32m    778\u001b[0m                         \u001b[0mstop\u001b[0m\u001b[0;34m=\u001b[0m\u001b[0mstop\u001b[0m\u001b[0;34m,\u001b[0m\u001b[0;34m\u001b[0m\u001b[0;34m\u001b[0m\u001b[0m\n",
            "\u001b[0;32m/usr/local/lib/python3.11/dist-packages/langchain_core/language_models/chat_models.py\u001b[0m in \u001b[0;36m_generate_with_cache\u001b[0;34m(self, messages, stop, run_manager, **kwargs)\u001b[0m\n\u001b[1;32m   1020\u001b[0m             \u001b[0mresult\u001b[0m \u001b[0;34m=\u001b[0m \u001b[0mgenerate_from_stream\u001b[0m\u001b[0;34m(\u001b[0m\u001b[0miter\u001b[0m\u001b[0;34m(\u001b[0m\u001b[0mchunks\u001b[0m\u001b[0;34m)\u001b[0m\u001b[0;34m)\u001b[0m\u001b[0;34m\u001b[0m\u001b[0;34m\u001b[0m\u001b[0m\n\u001b[1;32m   1021\u001b[0m         \u001b[0;32melif\u001b[0m \u001b[0minspect\u001b[0m\u001b[0;34m.\u001b[0m\u001b[0msignature\u001b[0m\u001b[0;34m(\u001b[0m\u001b[0mself\u001b[0m\u001b[0;34m.\u001b[0m\u001b[0m_generate\u001b[0m\u001b[0;34m)\u001b[0m\u001b[0;34m.\u001b[0m\u001b[0mparameters\u001b[0m\u001b[0;34m.\u001b[0m\u001b[0mget\u001b[0m\u001b[0;34m(\u001b[0m\u001b[0;34m\"run_manager\"\u001b[0m\u001b[0;34m)\u001b[0m\u001b[0;34m:\u001b[0m\u001b[0;34m\u001b[0m\u001b[0;34m\u001b[0m\u001b[0m\n\u001b[0;32m-> 1022\u001b[0;31m             result = self._generate(\n\u001b[0m\u001b[1;32m   1023\u001b[0m                 \u001b[0mmessages\u001b[0m\u001b[0;34m,\u001b[0m \u001b[0mstop\u001b[0m\u001b[0;34m=\u001b[0m\u001b[0mstop\u001b[0m\u001b[0;34m,\u001b[0m \u001b[0mrun_manager\u001b[0m\u001b[0;34m=\u001b[0m\u001b[0mrun_manager\u001b[0m\u001b[0;34m,\u001b[0m \u001b[0;34m**\u001b[0m\u001b[0mkwargs\u001b[0m\u001b[0;34m\u001b[0m\u001b[0;34m\u001b[0m\u001b[0m\n\u001b[1;32m   1024\u001b[0m             )\n",
            "\u001b[0;32m/usr/local/lib/python3.11/dist-packages/langchain_gigachat/chat_models/gigachat.py\u001b[0m in \u001b[0;36m_generate\u001b[0;34m(self, messages, stop, run_manager, stream, **kwargs)\u001b[0m\n\u001b[1;32m    571\u001b[0m         \u001b[0mself\u001b[0m\u001b[0;34m.\u001b[0m\u001b[0m_upload_images\u001b[0m\u001b[0;34m(\u001b[0m\u001b[0mmessages\u001b[0m\u001b[0;34m)\u001b[0m\u001b[0;34m\u001b[0m\u001b[0;34m\u001b[0m\u001b[0m\n\u001b[1;32m    572\u001b[0m         \u001b[0mpayload\u001b[0m \u001b[0;34m=\u001b[0m \u001b[0mself\u001b[0m\u001b[0;34m.\u001b[0m\u001b[0m_build_payload\u001b[0m\u001b[0;34m(\u001b[0m\u001b[0mmessages\u001b[0m\u001b[0;34m,\u001b[0m \u001b[0;34m**\u001b[0m\u001b[0mkwargs\u001b[0m\u001b[0;34m)\u001b[0m\u001b[0;34m\u001b[0m\u001b[0;34m\u001b[0m\u001b[0m\n\u001b[0;32m--> 573\u001b[0;31m         \u001b[0mresponse\u001b[0m \u001b[0;34m=\u001b[0m \u001b[0mself\u001b[0m\u001b[0;34m.\u001b[0m\u001b[0m_client\u001b[0m\u001b[0;34m.\u001b[0m\u001b[0mchat\u001b[0m\u001b[0;34m(\u001b[0m\u001b[0mpayload\u001b[0m\u001b[0;34m)\u001b[0m\u001b[0;34m\u001b[0m\u001b[0;34m\u001b[0m\u001b[0m\n\u001b[0m\u001b[1;32m    574\u001b[0m         \u001b[0;32mfor\u001b[0m \u001b[0mchoice\u001b[0m \u001b[0;32min\u001b[0m \u001b[0mresponse\u001b[0m\u001b[0;34m.\u001b[0m\u001b[0mchoices\u001b[0m\u001b[0;34m:\u001b[0m\u001b[0;34m\u001b[0m\u001b[0;34m\u001b[0m\u001b[0m\n\u001b[1;32m    575\u001b[0m             trimmed_content = trim_content_to_stop_sequence(\n",
            "\u001b[0;32m/usr/local/lib/python3.11/dist-packages/gigachat/client.py\u001b[0m in \u001b[0;36mchat\u001b[0;34m(self, payload)\u001b[0m\n\u001b[1;32m    314\u001b[0m         \u001b[0;34m\"\"\"Возвращает ответ модели с учетом переданных сообщений\"\"\"\u001b[0m\u001b[0;34m\u001b[0m\u001b[0;34m\u001b[0m\u001b[0m\n\u001b[1;32m    315\u001b[0m         \u001b[0mchat\u001b[0m \u001b[0;34m=\u001b[0m \u001b[0m_parse_chat\u001b[0m\u001b[0;34m(\u001b[0m\u001b[0mpayload\u001b[0m\u001b[0;34m,\u001b[0m \u001b[0mself\u001b[0m\u001b[0;34m.\u001b[0m\u001b[0m_settings\u001b[0m\u001b[0;34m)\u001b[0m\u001b[0;34m\u001b[0m\u001b[0;34m\u001b[0m\u001b[0m\n\u001b[0;32m--> 316\u001b[0;31m         \u001b[0;32mreturn\u001b[0m \u001b[0mself\u001b[0m\u001b[0;34m.\u001b[0m\u001b[0m_decorator\u001b[0m\u001b[0;34m(\u001b[0m\u001b[0;32mlambda\u001b[0m\u001b[0;34m:\u001b[0m \u001b[0mpost_chat\u001b[0m\u001b[0;34m.\u001b[0m\u001b[0msync\u001b[0m\u001b[0;34m(\u001b[0m\u001b[0mself\u001b[0m\u001b[0;34m.\u001b[0m\u001b[0m_client\u001b[0m\u001b[0;34m,\u001b[0m \u001b[0mchat\u001b[0m\u001b[0;34m=\u001b[0m\u001b[0mchat\u001b[0m\u001b[0;34m,\u001b[0m \u001b[0maccess_token\u001b[0m\u001b[0;34m=\u001b[0m\u001b[0mself\u001b[0m\u001b[0;34m.\u001b[0m\u001b[0mtoken\u001b[0m\u001b[0;34m)\u001b[0m\u001b[0;34m)\u001b[0m\u001b[0;34m\u001b[0m\u001b[0;34m\u001b[0m\u001b[0m\n\u001b[0m\u001b[1;32m    317\u001b[0m \u001b[0;34m\u001b[0m\u001b[0m\n\u001b[1;32m    318\u001b[0m     \u001b[0;32mdef\u001b[0m \u001b[0mget_balance\u001b[0m\u001b[0;34m(\u001b[0m\u001b[0mself\u001b[0m\u001b[0;34m)\u001b[0m \u001b[0;34m->\u001b[0m \u001b[0mBalance\u001b[0m\u001b[0;34m:\u001b[0m\u001b[0;34m\u001b[0m\u001b[0;34m\u001b[0m\u001b[0m\n",
            "\u001b[0;32m/usr/local/lib/python3.11/dist-packages/gigachat/client.py\u001b[0m in \u001b[0;36m_decorator\u001b[0;34m(self, call)\u001b[0m\n\u001b[1;32m    253\u001b[0m             \u001b[0;32mif\u001b[0m \u001b[0mself\u001b[0m\u001b[0;34m.\u001b[0m\u001b[0m_check_validity_token\u001b[0m\u001b[0;34m(\u001b[0m\u001b[0;34m)\u001b[0m\u001b[0;34m:\u001b[0m\u001b[0;34m\u001b[0m\u001b[0;34m\u001b[0m\u001b[0m\n\u001b[1;32m    254\u001b[0m                 \u001b[0;32mtry\u001b[0m\u001b[0;34m:\u001b[0m\u001b[0;34m\u001b[0m\u001b[0;34m\u001b[0m\u001b[0m\n\u001b[0;32m--> 255\u001b[0;31m                     \u001b[0;32mreturn\u001b[0m \u001b[0mcall\u001b[0m\u001b[0;34m(\u001b[0m\u001b[0;34m)\u001b[0m\u001b[0;34m\u001b[0m\u001b[0;34m\u001b[0m\u001b[0m\n\u001b[0m\u001b[1;32m    256\u001b[0m                 \u001b[0;32mexcept\u001b[0m \u001b[0mAuthenticationError\u001b[0m\u001b[0;34m:\u001b[0m\u001b[0;34m\u001b[0m\u001b[0;34m\u001b[0m\u001b[0m\n\u001b[1;32m    257\u001b[0m                     \u001b[0m_logger\u001b[0m\u001b[0;34m.\u001b[0m\u001b[0mdebug\u001b[0m\u001b[0;34m(\u001b[0m\u001b[0;34m\"AUTHENTICATION ERROR\"\u001b[0m\u001b[0;34m)\u001b[0m\u001b[0;34m\u001b[0m\u001b[0;34m\u001b[0m\u001b[0m\n",
            "\u001b[0;32m/usr/local/lib/python3.11/dist-packages/gigachat/client.py\u001b[0m in \u001b[0;36m<lambda>\u001b[0;34m()\u001b[0m\n\u001b[1;32m    314\u001b[0m         \u001b[0;34m\"\"\"Возвращает ответ модели с учетом переданных сообщений\"\"\"\u001b[0m\u001b[0;34m\u001b[0m\u001b[0;34m\u001b[0m\u001b[0m\n\u001b[1;32m    315\u001b[0m         \u001b[0mchat\u001b[0m \u001b[0;34m=\u001b[0m \u001b[0m_parse_chat\u001b[0m\u001b[0;34m(\u001b[0m\u001b[0mpayload\u001b[0m\u001b[0;34m,\u001b[0m \u001b[0mself\u001b[0m\u001b[0;34m.\u001b[0m\u001b[0m_settings\u001b[0m\u001b[0;34m)\u001b[0m\u001b[0;34m\u001b[0m\u001b[0;34m\u001b[0m\u001b[0m\n\u001b[0;32m--> 316\u001b[0;31m         \u001b[0;32mreturn\u001b[0m \u001b[0mself\u001b[0m\u001b[0;34m.\u001b[0m\u001b[0m_decorator\u001b[0m\u001b[0;34m(\u001b[0m\u001b[0;32mlambda\u001b[0m\u001b[0;34m:\u001b[0m \u001b[0mpost_chat\u001b[0m\u001b[0;34m.\u001b[0m\u001b[0msync\u001b[0m\u001b[0;34m(\u001b[0m\u001b[0mself\u001b[0m\u001b[0;34m.\u001b[0m\u001b[0m_client\u001b[0m\u001b[0;34m,\u001b[0m \u001b[0mchat\u001b[0m\u001b[0;34m=\u001b[0m\u001b[0mchat\u001b[0m\u001b[0;34m,\u001b[0m \u001b[0maccess_token\u001b[0m\u001b[0;34m=\u001b[0m\u001b[0mself\u001b[0m\u001b[0;34m.\u001b[0m\u001b[0mtoken\u001b[0m\u001b[0;34m)\u001b[0m\u001b[0;34m)\u001b[0m\u001b[0;34m\u001b[0m\u001b[0;34m\u001b[0m\u001b[0m\n\u001b[0m\u001b[1;32m    317\u001b[0m \u001b[0;34m\u001b[0m\u001b[0m\n\u001b[1;32m    318\u001b[0m     \u001b[0;32mdef\u001b[0m \u001b[0mget_balance\u001b[0m\u001b[0;34m(\u001b[0m\u001b[0mself\u001b[0m\u001b[0;34m)\u001b[0m \u001b[0;34m->\u001b[0m \u001b[0mBalance\u001b[0m\u001b[0;34m:\u001b[0m\u001b[0;34m\u001b[0m\u001b[0;34m\u001b[0m\u001b[0m\n",
            "\u001b[0;32m/usr/local/lib/python3.11/dist-packages/gigachat/api/post_chat.py\u001b[0m in \u001b[0;36msync\u001b[0;34m(client, chat, access_token)\u001b[0m\n\u001b[1;32m     31\u001b[0m ) -> ChatCompletion:\n\u001b[1;32m     32\u001b[0m     \u001b[0mkwargs\u001b[0m \u001b[0;34m=\u001b[0m \u001b[0m_get_kwargs\u001b[0m\u001b[0;34m(\u001b[0m\u001b[0mchat\u001b[0m\u001b[0;34m=\u001b[0m\u001b[0mchat\u001b[0m\u001b[0;34m,\u001b[0m \u001b[0maccess_token\u001b[0m\u001b[0;34m=\u001b[0m\u001b[0maccess_token\u001b[0m\u001b[0;34m)\u001b[0m\u001b[0;34m\u001b[0m\u001b[0;34m\u001b[0m\u001b[0m\n\u001b[0;32m---> 33\u001b[0;31m     \u001b[0mresponse\u001b[0m \u001b[0;34m=\u001b[0m \u001b[0mclient\u001b[0m\u001b[0;34m.\u001b[0m\u001b[0mrequest\u001b[0m\u001b[0;34m(\u001b[0m\u001b[0;34m**\u001b[0m\u001b[0mkwargs\u001b[0m\u001b[0;34m)\u001b[0m\u001b[0;34m\u001b[0m\u001b[0;34m\u001b[0m\u001b[0m\n\u001b[0m\u001b[1;32m     34\u001b[0m     \u001b[0;32mreturn\u001b[0m \u001b[0mbuild_response\u001b[0m\u001b[0;34m(\u001b[0m\u001b[0mresponse\u001b[0m\u001b[0;34m,\u001b[0m \u001b[0mChatCompletion\u001b[0m\u001b[0;34m)\u001b[0m\u001b[0;34m\u001b[0m\u001b[0;34m\u001b[0m\u001b[0m\n\u001b[1;32m     35\u001b[0m \u001b[0;34m\u001b[0m\u001b[0m\n",
            "\u001b[0;32m/usr/local/lib/python3.11/dist-packages/httpx/_client.py\u001b[0m in \u001b[0;36mrequest\u001b[0;34m(self, method, url, content, data, files, json, params, headers, cookies, auth, follow_redirects, timeout, extensions)\u001b[0m\n\u001b[1;32m    823\u001b[0m             \u001b[0mextensions\u001b[0m\u001b[0;34m=\u001b[0m\u001b[0mextensions\u001b[0m\u001b[0;34m,\u001b[0m\u001b[0;34m\u001b[0m\u001b[0;34m\u001b[0m\u001b[0m\n\u001b[1;32m    824\u001b[0m         )\n\u001b[0;32m--> 825\u001b[0;31m         \u001b[0;32mreturn\u001b[0m \u001b[0mself\u001b[0m\u001b[0;34m.\u001b[0m\u001b[0msend\u001b[0m\u001b[0;34m(\u001b[0m\u001b[0mrequest\u001b[0m\u001b[0;34m,\u001b[0m \u001b[0mauth\u001b[0m\u001b[0;34m=\u001b[0m\u001b[0mauth\u001b[0m\u001b[0;34m,\u001b[0m \u001b[0mfollow_redirects\u001b[0m\u001b[0;34m=\u001b[0m\u001b[0mfollow_redirects\u001b[0m\u001b[0;34m)\u001b[0m\u001b[0;34m\u001b[0m\u001b[0;34m\u001b[0m\u001b[0m\n\u001b[0m\u001b[1;32m    826\u001b[0m \u001b[0;34m\u001b[0m\u001b[0m\n\u001b[1;32m    827\u001b[0m     \u001b[0;34m@\u001b[0m\u001b[0mcontextmanager\u001b[0m\u001b[0;34m\u001b[0m\u001b[0;34m\u001b[0m\u001b[0m\n",
            "\u001b[0;32m/usr/local/lib/python3.11/dist-packages/httpx/_client.py\u001b[0m in \u001b[0;36msend\u001b[0;34m(self, request, stream, auth, follow_redirects)\u001b[0m\n\u001b[1;32m    912\u001b[0m         \u001b[0mauth\u001b[0m \u001b[0;34m=\u001b[0m \u001b[0mself\u001b[0m\u001b[0;34m.\u001b[0m\u001b[0m_build_request_auth\u001b[0m\u001b[0;34m(\u001b[0m\u001b[0mrequest\u001b[0m\u001b[0;34m,\u001b[0m \u001b[0mauth\u001b[0m\u001b[0;34m)\u001b[0m\u001b[0;34m\u001b[0m\u001b[0;34m\u001b[0m\u001b[0m\n\u001b[1;32m    913\u001b[0m \u001b[0;34m\u001b[0m\u001b[0m\n\u001b[0;32m--> 914\u001b[0;31m         response = self._send_handling_auth(\n\u001b[0m\u001b[1;32m    915\u001b[0m             \u001b[0mrequest\u001b[0m\u001b[0;34m,\u001b[0m\u001b[0;34m\u001b[0m\u001b[0;34m\u001b[0m\u001b[0m\n\u001b[1;32m    916\u001b[0m             \u001b[0mauth\u001b[0m\u001b[0;34m=\u001b[0m\u001b[0mauth\u001b[0m\u001b[0;34m,\u001b[0m\u001b[0;34m\u001b[0m\u001b[0;34m\u001b[0m\u001b[0m\n",
            "\u001b[0;32m/usr/local/lib/python3.11/dist-packages/httpx/_client.py\u001b[0m in \u001b[0;36m_send_handling_auth\u001b[0;34m(self, request, auth, follow_redirects, history)\u001b[0m\n\u001b[1;32m    940\u001b[0m \u001b[0;34m\u001b[0m\u001b[0m\n\u001b[1;32m    941\u001b[0m             \u001b[0;32mwhile\u001b[0m \u001b[0;32mTrue\u001b[0m\u001b[0;34m:\u001b[0m\u001b[0;34m\u001b[0m\u001b[0;34m\u001b[0m\u001b[0m\n\u001b[0;32m--> 942\u001b[0;31m                 response = self._send_handling_redirects(\n\u001b[0m\u001b[1;32m    943\u001b[0m                     \u001b[0mrequest\u001b[0m\u001b[0;34m,\u001b[0m\u001b[0;34m\u001b[0m\u001b[0;34m\u001b[0m\u001b[0m\n\u001b[1;32m    944\u001b[0m                     \u001b[0mfollow_redirects\u001b[0m\u001b[0;34m=\u001b[0m\u001b[0mfollow_redirects\u001b[0m\u001b[0;34m,\u001b[0m\u001b[0;34m\u001b[0m\u001b[0;34m\u001b[0m\u001b[0m\n",
            "\u001b[0;32m/usr/local/lib/python3.11/dist-packages/httpx/_client.py\u001b[0m in \u001b[0;36m_send_handling_redirects\u001b[0;34m(self, request, follow_redirects, history)\u001b[0m\n\u001b[1;32m    977\u001b[0m                 \u001b[0mhook\u001b[0m\u001b[0;34m(\u001b[0m\u001b[0mrequest\u001b[0m\u001b[0;34m)\u001b[0m\u001b[0;34m\u001b[0m\u001b[0;34m\u001b[0m\u001b[0m\n\u001b[1;32m    978\u001b[0m \u001b[0;34m\u001b[0m\u001b[0m\n\u001b[0;32m--> 979\u001b[0;31m             \u001b[0mresponse\u001b[0m \u001b[0;34m=\u001b[0m \u001b[0mself\u001b[0m\u001b[0;34m.\u001b[0m\u001b[0m_send_single_request\u001b[0m\u001b[0;34m(\u001b[0m\u001b[0mrequest\u001b[0m\u001b[0;34m)\u001b[0m\u001b[0;34m\u001b[0m\u001b[0;34m\u001b[0m\u001b[0m\n\u001b[0m\u001b[1;32m    980\u001b[0m             \u001b[0;32mtry\u001b[0m\u001b[0;34m:\u001b[0m\u001b[0;34m\u001b[0m\u001b[0;34m\u001b[0m\u001b[0m\n\u001b[1;32m    981\u001b[0m                 \u001b[0;32mfor\u001b[0m \u001b[0mhook\u001b[0m \u001b[0;32min\u001b[0m \u001b[0mself\u001b[0m\u001b[0;34m.\u001b[0m\u001b[0m_event_hooks\u001b[0m\u001b[0;34m[\u001b[0m\u001b[0;34m\"response\"\u001b[0m\u001b[0;34m]\u001b[0m\u001b[0;34m:\u001b[0m\u001b[0;34m\u001b[0m\u001b[0;34m\u001b[0m\u001b[0m\n",
            "\u001b[0;32m/usr/local/lib/python3.11/dist-packages/httpx/_client.py\u001b[0m in \u001b[0;36m_send_single_request\u001b[0;34m(self, request)\u001b[0m\n\u001b[1;32m   1012\u001b[0m \u001b[0;34m\u001b[0m\u001b[0m\n\u001b[1;32m   1013\u001b[0m         \u001b[0;32mwith\u001b[0m \u001b[0mrequest_context\u001b[0m\u001b[0;34m(\u001b[0m\u001b[0mrequest\u001b[0m\u001b[0;34m=\u001b[0m\u001b[0mrequest\u001b[0m\u001b[0;34m)\u001b[0m\u001b[0;34m:\u001b[0m\u001b[0;34m\u001b[0m\u001b[0;34m\u001b[0m\u001b[0m\n\u001b[0;32m-> 1014\u001b[0;31m             \u001b[0mresponse\u001b[0m \u001b[0;34m=\u001b[0m \u001b[0mtransport\u001b[0m\u001b[0;34m.\u001b[0m\u001b[0mhandle_request\u001b[0m\u001b[0;34m(\u001b[0m\u001b[0mrequest\u001b[0m\u001b[0;34m)\u001b[0m\u001b[0;34m\u001b[0m\u001b[0;34m\u001b[0m\u001b[0m\n\u001b[0m\u001b[1;32m   1015\u001b[0m \u001b[0;34m\u001b[0m\u001b[0m\n\u001b[1;32m   1016\u001b[0m         \u001b[0;32massert\u001b[0m \u001b[0misinstance\u001b[0m\u001b[0;34m(\u001b[0m\u001b[0mresponse\u001b[0m\u001b[0;34m.\u001b[0m\u001b[0mstream\u001b[0m\u001b[0;34m,\u001b[0m \u001b[0mSyncByteStream\u001b[0m\u001b[0;34m)\u001b[0m\u001b[0;34m\u001b[0m\u001b[0;34m\u001b[0m\u001b[0m\n",
            "\u001b[0;32m/usr/local/lib/python3.11/dist-packages/httpx/_transports/default.py\u001b[0m in \u001b[0;36mhandle_request\u001b[0;34m(self, request)\u001b[0m\n\u001b[1;32m    248\u001b[0m         )\n\u001b[1;32m    249\u001b[0m         \u001b[0;32mwith\u001b[0m \u001b[0mmap_httpcore_exceptions\u001b[0m\u001b[0;34m(\u001b[0m\u001b[0;34m)\u001b[0m\u001b[0;34m:\u001b[0m\u001b[0;34m\u001b[0m\u001b[0;34m\u001b[0m\u001b[0m\n\u001b[0;32m--> 250\u001b[0;31m             \u001b[0mresp\u001b[0m \u001b[0;34m=\u001b[0m \u001b[0mself\u001b[0m\u001b[0;34m.\u001b[0m\u001b[0m_pool\u001b[0m\u001b[0;34m.\u001b[0m\u001b[0mhandle_request\u001b[0m\u001b[0;34m(\u001b[0m\u001b[0mreq\u001b[0m\u001b[0;34m)\u001b[0m\u001b[0;34m\u001b[0m\u001b[0;34m\u001b[0m\u001b[0m\n\u001b[0m\u001b[1;32m    251\u001b[0m \u001b[0;34m\u001b[0m\u001b[0m\n\u001b[1;32m    252\u001b[0m         \u001b[0;32massert\u001b[0m \u001b[0misinstance\u001b[0m\u001b[0;34m(\u001b[0m\u001b[0mresp\u001b[0m\u001b[0;34m.\u001b[0m\u001b[0mstream\u001b[0m\u001b[0;34m,\u001b[0m \u001b[0mtyping\u001b[0m\u001b[0;34m.\u001b[0m\u001b[0mIterable\u001b[0m\u001b[0;34m)\u001b[0m\u001b[0;34m\u001b[0m\u001b[0;34m\u001b[0m\u001b[0m\n",
            "\u001b[0;32m/usr/local/lib/python3.11/dist-packages/httpcore/_sync/connection_pool.py\u001b[0m in \u001b[0;36mhandle_request\u001b[0;34m(self, request)\u001b[0m\n\u001b[1;32m    254\u001b[0m \u001b[0;34m\u001b[0m\u001b[0m\n\u001b[1;32m    255\u001b[0m             \u001b[0mself\u001b[0m\u001b[0;34m.\u001b[0m\u001b[0m_close_connections\u001b[0m\u001b[0;34m(\u001b[0m\u001b[0mclosing\u001b[0m\u001b[0;34m)\u001b[0m\u001b[0;34m\u001b[0m\u001b[0;34m\u001b[0m\u001b[0m\n\u001b[0;32m--> 256\u001b[0;31m             \u001b[0;32mraise\u001b[0m \u001b[0mexc\u001b[0m \u001b[0;32mfrom\u001b[0m \u001b[0;32mNone\u001b[0m\u001b[0;34m\u001b[0m\u001b[0;34m\u001b[0m\u001b[0m\n\u001b[0m\u001b[1;32m    257\u001b[0m \u001b[0;34m\u001b[0m\u001b[0m\n\u001b[1;32m    258\u001b[0m         \u001b[0;31m# Return the response. Note that in this case we still have to manage\u001b[0m\u001b[0;34m\u001b[0m\u001b[0;34m\u001b[0m\u001b[0m\n",
            "\u001b[0;32m/usr/local/lib/python3.11/dist-packages/httpcore/_sync/connection_pool.py\u001b[0m in \u001b[0;36mhandle_request\u001b[0;34m(self, request)\u001b[0m\n\u001b[1;32m    234\u001b[0m                 \u001b[0;32mtry\u001b[0m\u001b[0;34m:\u001b[0m\u001b[0;34m\u001b[0m\u001b[0;34m\u001b[0m\u001b[0m\n\u001b[1;32m    235\u001b[0m                     \u001b[0;31m# Send the request on the assigned connection.\u001b[0m\u001b[0;34m\u001b[0m\u001b[0;34m\u001b[0m\u001b[0m\n\u001b[0;32m--> 236\u001b[0;31m                     response = connection.handle_request(\n\u001b[0m\u001b[1;32m    237\u001b[0m                         \u001b[0mpool_request\u001b[0m\u001b[0;34m.\u001b[0m\u001b[0mrequest\u001b[0m\u001b[0;34m\u001b[0m\u001b[0;34m\u001b[0m\u001b[0m\n\u001b[1;32m    238\u001b[0m                     )\n",
            "\u001b[0;32m/usr/local/lib/python3.11/dist-packages/httpcore/_sync/connection.py\u001b[0m in \u001b[0;36mhandle_request\u001b[0;34m(self, request)\u001b[0m\n\u001b[1;32m    101\u001b[0m             \u001b[0;32mraise\u001b[0m \u001b[0mexc\u001b[0m\u001b[0;34m\u001b[0m\u001b[0;34m\u001b[0m\u001b[0m\n\u001b[1;32m    102\u001b[0m \u001b[0;34m\u001b[0m\u001b[0m\n\u001b[0;32m--> 103\u001b[0;31m         \u001b[0;32mreturn\u001b[0m \u001b[0mself\u001b[0m\u001b[0;34m.\u001b[0m\u001b[0m_connection\u001b[0m\u001b[0;34m.\u001b[0m\u001b[0mhandle_request\u001b[0m\u001b[0;34m(\u001b[0m\u001b[0mrequest\u001b[0m\u001b[0;34m)\u001b[0m\u001b[0;34m\u001b[0m\u001b[0;34m\u001b[0m\u001b[0m\n\u001b[0m\u001b[1;32m    104\u001b[0m \u001b[0;34m\u001b[0m\u001b[0m\n\u001b[1;32m    105\u001b[0m     \u001b[0;32mdef\u001b[0m \u001b[0m_connect\u001b[0m\u001b[0;34m(\u001b[0m\u001b[0mself\u001b[0m\u001b[0;34m,\u001b[0m \u001b[0mrequest\u001b[0m\u001b[0;34m:\u001b[0m \u001b[0mRequest\u001b[0m\u001b[0;34m)\u001b[0m \u001b[0;34m->\u001b[0m \u001b[0mNetworkStream\u001b[0m\u001b[0;34m:\u001b[0m\u001b[0;34m\u001b[0m\u001b[0;34m\u001b[0m\u001b[0m\n",
            "\u001b[0;32m/usr/local/lib/python3.11/dist-packages/httpcore/_sync/http11.py\u001b[0m in \u001b[0;36mhandle_request\u001b[0;34m(self, request)\u001b[0m\n\u001b[1;32m    134\u001b[0m                 \u001b[0;32mwith\u001b[0m \u001b[0mTrace\u001b[0m\u001b[0;34m(\u001b[0m\u001b[0;34m\"response_closed\"\u001b[0m\u001b[0;34m,\u001b[0m \u001b[0mlogger\u001b[0m\u001b[0;34m,\u001b[0m \u001b[0mrequest\u001b[0m\u001b[0;34m)\u001b[0m \u001b[0;32mas\u001b[0m \u001b[0mtrace\u001b[0m\u001b[0;34m:\u001b[0m\u001b[0;34m\u001b[0m\u001b[0;34m\u001b[0m\u001b[0m\n\u001b[1;32m    135\u001b[0m                     \u001b[0mself\u001b[0m\u001b[0;34m.\u001b[0m\u001b[0m_response_closed\u001b[0m\u001b[0;34m(\u001b[0m\u001b[0;34m)\u001b[0m\u001b[0;34m\u001b[0m\u001b[0;34m\u001b[0m\u001b[0m\n\u001b[0;32m--> 136\u001b[0;31m             \u001b[0;32mraise\u001b[0m \u001b[0mexc\u001b[0m\u001b[0;34m\u001b[0m\u001b[0;34m\u001b[0m\u001b[0m\n\u001b[0m\u001b[1;32m    137\u001b[0m \u001b[0;34m\u001b[0m\u001b[0m\n\u001b[1;32m    138\u001b[0m     \u001b[0;31m# Sending the request...\u001b[0m\u001b[0;34m\u001b[0m\u001b[0;34m\u001b[0m\u001b[0m\n",
            "\u001b[0;32m/usr/local/lib/python3.11/dist-packages/httpcore/_sync/http11.py\u001b[0m in \u001b[0;36mhandle_request\u001b[0;34m(self, request)\u001b[0m\n\u001b[1;32m    104\u001b[0m                     \u001b[0mheaders\u001b[0m\u001b[0;34m,\u001b[0m\u001b[0;34m\u001b[0m\u001b[0;34m\u001b[0m\u001b[0m\n\u001b[1;32m    105\u001b[0m                     \u001b[0mtrailing_data\u001b[0m\u001b[0;34m,\u001b[0m\u001b[0;34m\u001b[0m\u001b[0;34m\u001b[0m\u001b[0m\n\u001b[0;32m--> 106\u001b[0;31m                 ) = self._receive_response_headers(**kwargs)\n\u001b[0m\u001b[1;32m    107\u001b[0m                 trace.return_value = (\n\u001b[1;32m    108\u001b[0m                     \u001b[0mhttp_version\u001b[0m\u001b[0;34m,\u001b[0m\u001b[0;34m\u001b[0m\u001b[0;34m\u001b[0m\u001b[0m\n",
            "\u001b[0;32m/usr/local/lib/python3.11/dist-packages/httpcore/_sync/http11.py\u001b[0m in \u001b[0;36m_receive_response_headers\u001b[0;34m(self, request)\u001b[0m\n\u001b[1;32m    175\u001b[0m \u001b[0;34m\u001b[0m\u001b[0m\n\u001b[1;32m    176\u001b[0m         \u001b[0;32mwhile\u001b[0m \u001b[0;32mTrue\u001b[0m\u001b[0;34m:\u001b[0m\u001b[0;34m\u001b[0m\u001b[0;34m\u001b[0m\u001b[0m\n\u001b[0;32m--> 177\u001b[0;31m             \u001b[0mevent\u001b[0m \u001b[0;34m=\u001b[0m \u001b[0mself\u001b[0m\u001b[0;34m.\u001b[0m\u001b[0m_receive_event\u001b[0m\u001b[0;34m(\u001b[0m\u001b[0mtimeout\u001b[0m\u001b[0;34m=\u001b[0m\u001b[0mtimeout\u001b[0m\u001b[0;34m)\u001b[0m\u001b[0;34m\u001b[0m\u001b[0;34m\u001b[0m\u001b[0m\n\u001b[0m\u001b[1;32m    178\u001b[0m             \u001b[0;32mif\u001b[0m \u001b[0misinstance\u001b[0m\u001b[0;34m(\u001b[0m\u001b[0mevent\u001b[0m\u001b[0;34m,\u001b[0m \u001b[0mh11\u001b[0m\u001b[0;34m.\u001b[0m\u001b[0mResponse\u001b[0m\u001b[0;34m)\u001b[0m\u001b[0;34m:\u001b[0m\u001b[0;34m\u001b[0m\u001b[0;34m\u001b[0m\u001b[0m\n\u001b[1;32m    179\u001b[0m                 \u001b[0;32mbreak\u001b[0m\u001b[0;34m\u001b[0m\u001b[0;34m\u001b[0m\u001b[0m\n",
            "\u001b[0;32m/usr/local/lib/python3.11/dist-packages/httpcore/_sync/http11.py\u001b[0m in \u001b[0;36m_receive_event\u001b[0;34m(self, timeout)\u001b[0m\n\u001b[1;32m    215\u001b[0m \u001b[0;34m\u001b[0m\u001b[0m\n\u001b[1;32m    216\u001b[0m             \u001b[0;32mif\u001b[0m \u001b[0mevent\u001b[0m \u001b[0;32mis\u001b[0m \u001b[0mh11\u001b[0m\u001b[0;34m.\u001b[0m\u001b[0mNEED_DATA\u001b[0m\u001b[0;34m:\u001b[0m\u001b[0;34m\u001b[0m\u001b[0;34m\u001b[0m\u001b[0m\n\u001b[0;32m--> 217\u001b[0;31m                 data = self._network_stream.read(\n\u001b[0m\u001b[1;32m    218\u001b[0m                     \u001b[0mself\u001b[0m\u001b[0;34m.\u001b[0m\u001b[0mREAD_NUM_BYTES\u001b[0m\u001b[0;34m,\u001b[0m \u001b[0mtimeout\u001b[0m\u001b[0;34m=\u001b[0m\u001b[0mtimeout\u001b[0m\u001b[0;34m\u001b[0m\u001b[0;34m\u001b[0m\u001b[0m\n\u001b[1;32m    219\u001b[0m                 )\n",
            "\u001b[0;32m/usr/local/lib/python3.11/dist-packages/httpcore/_backends/sync.py\u001b[0m in \u001b[0;36mread\u001b[0;34m(self, max_bytes, timeout)\u001b[0m\n\u001b[1;32m    126\u001b[0m         \u001b[0;32mwith\u001b[0m \u001b[0mmap_exceptions\u001b[0m\u001b[0;34m(\u001b[0m\u001b[0mexc_map\u001b[0m\u001b[0;34m)\u001b[0m\u001b[0;34m:\u001b[0m\u001b[0;34m\u001b[0m\u001b[0;34m\u001b[0m\u001b[0m\n\u001b[1;32m    127\u001b[0m             \u001b[0mself\u001b[0m\u001b[0;34m.\u001b[0m\u001b[0m_sock\u001b[0m\u001b[0;34m.\u001b[0m\u001b[0msettimeout\u001b[0m\u001b[0;34m(\u001b[0m\u001b[0mtimeout\u001b[0m\u001b[0;34m)\u001b[0m\u001b[0;34m\u001b[0m\u001b[0;34m\u001b[0m\u001b[0m\n\u001b[0;32m--> 128\u001b[0;31m             \u001b[0;32mreturn\u001b[0m \u001b[0mself\u001b[0m\u001b[0;34m.\u001b[0m\u001b[0m_sock\u001b[0m\u001b[0;34m.\u001b[0m\u001b[0mrecv\u001b[0m\u001b[0;34m(\u001b[0m\u001b[0mmax_bytes\u001b[0m\u001b[0;34m)\u001b[0m\u001b[0;34m\u001b[0m\u001b[0;34m\u001b[0m\u001b[0m\n\u001b[0m\u001b[1;32m    129\u001b[0m \u001b[0;34m\u001b[0m\u001b[0m\n\u001b[1;32m    130\u001b[0m     \u001b[0;32mdef\u001b[0m \u001b[0mwrite\u001b[0m\u001b[0;34m(\u001b[0m\u001b[0mself\u001b[0m\u001b[0;34m,\u001b[0m \u001b[0mbuffer\u001b[0m\u001b[0;34m:\u001b[0m \u001b[0mbytes\u001b[0m\u001b[0;34m,\u001b[0m \u001b[0mtimeout\u001b[0m\u001b[0;34m:\u001b[0m \u001b[0mfloat\u001b[0m \u001b[0;34m|\u001b[0m \u001b[0;32mNone\u001b[0m \u001b[0;34m=\u001b[0m \u001b[0;32mNone\u001b[0m\u001b[0;34m)\u001b[0m \u001b[0;34m->\u001b[0m \u001b[0;32mNone\u001b[0m\u001b[0;34m:\u001b[0m\u001b[0;34m\u001b[0m\u001b[0;34m\u001b[0m\u001b[0m\n",
            "\u001b[0;32m/usr/lib/python3.11/ssl.py\u001b[0m in \u001b[0;36mrecv\u001b[0;34m(self, buflen, flags)\u001b[0m\n\u001b[1;32m   1293\u001b[0m                     \u001b[0;34m\"non-zero flags not allowed in calls to recv() on %s\"\u001b[0m \u001b[0;34m%\u001b[0m\u001b[0;34m\u001b[0m\u001b[0;34m\u001b[0m\u001b[0m\n\u001b[1;32m   1294\u001b[0m                     self.__class__)\n\u001b[0;32m-> 1295\u001b[0;31m             \u001b[0;32mreturn\u001b[0m \u001b[0mself\u001b[0m\u001b[0;34m.\u001b[0m\u001b[0mread\u001b[0m\u001b[0;34m(\u001b[0m\u001b[0mbuflen\u001b[0m\u001b[0;34m)\u001b[0m\u001b[0;34m\u001b[0m\u001b[0;34m\u001b[0m\u001b[0m\n\u001b[0m\u001b[1;32m   1296\u001b[0m         \u001b[0;32melse\u001b[0m\u001b[0;34m:\u001b[0m\u001b[0;34m\u001b[0m\u001b[0;34m\u001b[0m\u001b[0m\n\u001b[1;32m   1297\u001b[0m             \u001b[0;32mreturn\u001b[0m \u001b[0msuper\u001b[0m\u001b[0;34m(\u001b[0m\u001b[0;34m)\u001b[0m\u001b[0;34m.\u001b[0m\u001b[0mrecv\u001b[0m\u001b[0;34m(\u001b[0m\u001b[0mbuflen\u001b[0m\u001b[0;34m,\u001b[0m \u001b[0mflags\u001b[0m\u001b[0;34m)\u001b[0m\u001b[0;34m\u001b[0m\u001b[0;34m\u001b[0m\u001b[0m\n",
            "\u001b[0;32m/usr/lib/python3.11/ssl.py\u001b[0m in \u001b[0;36mread\u001b[0;34m(self, len, buffer)\u001b[0m\n\u001b[1;32m   1166\u001b[0m                 \u001b[0;32mreturn\u001b[0m \u001b[0mself\u001b[0m\u001b[0;34m.\u001b[0m\u001b[0m_sslobj\u001b[0m\u001b[0;34m.\u001b[0m\u001b[0mread\u001b[0m\u001b[0;34m(\u001b[0m\u001b[0mlen\u001b[0m\u001b[0;34m,\u001b[0m \u001b[0mbuffer\u001b[0m\u001b[0;34m)\u001b[0m\u001b[0;34m\u001b[0m\u001b[0;34m\u001b[0m\u001b[0m\n\u001b[1;32m   1167\u001b[0m             \u001b[0;32melse\u001b[0m\u001b[0;34m:\u001b[0m\u001b[0;34m\u001b[0m\u001b[0;34m\u001b[0m\u001b[0m\n\u001b[0;32m-> 1168\u001b[0;31m                 \u001b[0;32mreturn\u001b[0m \u001b[0mself\u001b[0m\u001b[0;34m.\u001b[0m\u001b[0m_sslobj\u001b[0m\u001b[0;34m.\u001b[0m\u001b[0mread\u001b[0m\u001b[0;34m(\u001b[0m\u001b[0mlen\u001b[0m\u001b[0;34m)\u001b[0m\u001b[0;34m\u001b[0m\u001b[0;34m\u001b[0m\u001b[0m\n\u001b[0m\u001b[1;32m   1169\u001b[0m         \u001b[0;32mexcept\u001b[0m \u001b[0mSSLError\u001b[0m \u001b[0;32mas\u001b[0m \u001b[0mx\u001b[0m\u001b[0;34m:\u001b[0m\u001b[0;34m\u001b[0m\u001b[0;34m\u001b[0m\u001b[0m\n\u001b[1;32m   1170\u001b[0m             \u001b[0;32mif\u001b[0m \u001b[0mx\u001b[0m\u001b[0;34m.\u001b[0m\u001b[0margs\u001b[0m\u001b[0;34m[\u001b[0m\u001b[0;36m0\u001b[0m\u001b[0;34m]\u001b[0m \u001b[0;34m==\u001b[0m \u001b[0mSSL_ERROR_EOF\u001b[0m \u001b[0;32mand\u001b[0m \u001b[0mself\u001b[0m\u001b[0;34m.\u001b[0m\u001b[0msuppress_ragged_eofs\u001b[0m\u001b[0;34m:\u001b[0m\u001b[0;34m\u001b[0m\u001b[0;34m\u001b[0m\u001b[0m\n",
            "\u001b[0;31mKeyboardInterrupt\u001b[0m: "
          ]
        }
      ]
    }
  ]
}